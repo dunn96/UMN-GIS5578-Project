{
 "cells": [
  {
   "cell_type": "code",
   "execution_count": 1,
   "metadata": {},
   "outputs": [],
   "source": [
    "import pandas as pd\n",
    "import geopandas as gpd"
   ]
  },
  {
   "cell_type": "markdown",
   "metadata": {},
   "source": [
    "# Load hydrography data"
   ]
  },
  {
   "cell_type": "code",
   "execution_count": 4,
   "metadata": {},
   "outputs": [],
   "source": [
    "hydrography = gpd.read_file(\"zip://shp_water_dnr_hydrography.zip\")"
   ]
  },
  {
   "cell_type": "code",
   "execution_count": 5,
   "metadata": {},
   "outputs": [
    {
     "name": "stdout",
     "output_type": "stream",
     "text": [
      "fw_id\n",
      "dowlknum\n",
      "pw_basin_n\n",
      "pw_parent_\n",
      "pw_sub_nam\n",
      "sub_flag\n",
      "wb_class\n",
      "lake_class\n",
      "acres\n",
      "shore_mi\n",
      "center_utm\n",
      "center_u_1\n",
      "cty_name\n",
      "dnr_region\n",
      "fsh_office\n",
      "outside_mn\n",
      "delineated\n",
      "delineatio\n",
      "delineat_1\n",
      "delineat_2\n",
      "approved_b\n",
      "approval_d\n",
      "approval_n\n",
      "has_flag\n",
      "flag_type\n",
      "publish_da\n",
      "lksdb_basi\n",
      "has_wld_fl\n",
      "wld_flag_t\n",
      "unique_id\n",
      "created_us\n",
      "created_da\n",
      "last_edite\n",
      "last_edi_1\n",
      "ow_use\n",
      "pwi_class\n",
      "map_displa\n",
      "map_label\n",
      "shape_Leng\n",
      "shape_Area\n",
      "INSIDE_X\n",
      "INSIDE_Y\n",
      "in_lakefin\n",
      "geometry\n"
     ]
    }
   ],
   "source": [
    "hydrography.head()\n",
    "for col in hydrography.columns:\n",
    "    print(col)"
   ]
  },
  {
   "cell_type": "code",
   "execution_count": 6,
   "metadata": {},
   "outputs": [
    {
     "name": "stdout",
     "output_type": "stream",
     "text": [
      "        fw_id  dowlknum              pw_basin_n         pw_parent_ pw_sub_nam  \\\n",
      "0           0      None                    None               None       None   \n",
      "1           0      None                    None               None       None   \n",
      "2           0      None                    None               None       None   \n",
      "3           0      None                    None               None       None   \n",
      "4           0      None                    None               None       None   \n",
      "...       ...       ...                     ...                ...        ...   \n",
      "130888      0      None                    None               None       None   \n",
      "130889      0      None                    None               None       None   \n",
      "130890      0      None                    None               None       None   \n",
      "130891      0      None                    None               None       None   \n",
      "130894   3738  39000200  Lake of the Woods (MN)  Lake of the Woods       None   \n",
      "\n",
      "       sub_flag      wb_class  lake_class          acres    shore_mi  ...  \\\n",
      "0          None  Lake or Pond           0       0.178112    0.066233  ...   \n",
      "1          None  Lake or Pond           0       0.228823    0.075741  ...   \n",
      "2          None  Lake or Pond           0       6.983383    0.589174  ...   \n",
      "3          None  Lake or Pond           0       0.247006    0.079385  ...   \n",
      "4          None  Lake or Pond           0       0.322043    0.100418  ...   \n",
      "...         ...           ...         ...            ...         ...  ...   \n",
      "130888     None  Lake or Pond           0       0.721685    0.150036  ...   \n",
      "130889     None  Lake or Pond           0       0.144588    0.073819  ...   \n",
      "130890     None  Lake or Pond           0       0.157130    0.064586  ...   \n",
      "130891     None  Lake or Pond           0       0.403316    0.097806  ...   \n",
      "130894        N  Lake or Pond          26  305577.550527  234.471821  ...   \n",
      "\n",
      "        ow_use  pwi_class map_displa               map_label     shape_Leng  \\\n",
      "0            Y       None          N                    None     106.592354   \n",
      "1            Y       None          N                    None     121.894224   \n",
      "2            Y       None          N                    None     948.185817   \n",
      "3            Y       None          N                    None     127.758531   \n",
      "4            Y       None          N                    None     161.607322   \n",
      "...        ...        ...        ...                     ...            ...   \n",
      "130888       Y       None          N                    None     241.460445   \n",
      "130889       Y       None          N                    None     118.799636   \n",
      "130890       Y       None          N                    None     103.941443   \n",
      "130891       Y       None          N                    None     157.404066   \n",
      "130894       Y          P          Y  Lake of the Woods (MN)  377346.573366   \n",
      "\n",
      "          shape_Area       INSIDE_X      INSIDE_Y in_lakefin  \\\n",
      "0       7.207929e+02  265658.709240  4.847195e+06          N   \n",
      "1       9.260127e+02  244628.940553  4.847546e+06          N   \n",
      "2       2.826075e+04  248421.788100  4.851495e+06          N   \n",
      "3       9.995994e+02  237795.836205  4.851535e+06          N   \n",
      "4       1.303264e+03  246148.099697  4.832961e+06          N   \n",
      "...              ...            ...           ...        ...   \n",
      "130888  2.920557e+03  472852.477413  5.381512e+06          N   \n",
      "130889  5.851249e+02  374300.649758  5.396340e+06          N   \n",
      "130890  6.358812e+02  406510.127018  5.389115e+06          N   \n",
      "130891  1.632162e+03  353393.260568  5.395897e+06          N   \n",
      "130894  1.236628e+09  357185.099313  5.435148e+06          Y   \n",
      "\n",
      "                                                 geometry  \n",
      "0       POLYGON ((265662.815 4847203.927, 265669.855 4...  \n",
      "1       POLYGON ((244609.451 4847549.609, 244612.858 4...  \n",
      "2       POLYGON ((248481.510 4851642.041, 248484.829 4...  \n",
      "3       POLYGON ((237784.737 4851545.927, 237786.077 4...  \n",
      "4       POLYGON ((246118.094 4832971.221, 246119.899 4...  \n",
      "...                                                   ...  \n",
      "130888  POLYGON ((472863.564 5381530.484, 472880.514 5...  \n",
      "130889  POLYGON ((374291.095 5396348.912, 374301.965 5...  \n",
      "130890  POLYGON ((406489.906 5389118.735, 406495.206 5...  \n",
      "130891  POLYGON ((353372.573 5395877.607, 353375.524 5...  \n",
      "130894  POLYGON ((344533.661 5471708.695, 344648.873 5...  \n",
      "\n",
      "[117421 rows x 44 columns]\n"
     ]
    }
   ],
   "source": [
    "print(hydrography.loc[hydrography[\"wb_class\"] == \"Lake or Pond\"])"
   ]
  },
  {
   "cell_type": "markdown",
   "metadata": {},
   "source": [
    "# Load 7 county metro"
   ]
  },
  {
   "cell_type": "code",
   "execution_count": 2,
   "metadata": {},
   "outputs": [
    {
     "data": {
      "text/plain": [
       "<matplotlib.axes._subplots.AxesSubplot at 0x7f8f94aac310>"
      ]
     },
     "execution_count": 2,
     "metadata": {},
     "output_type": "execute_result"
    },
    {
     "data": {
      "image/png": "[encoded data removed]",
      "text/plain": [
       "<Figure size 432x288 with 1 Axes>"
      ]
     },
     "metadata": {
      "needs_background": "light"
     },
     "output_type": "display_data"
    }
   ],
   "source": [
    "metro = gpd.read_file(\"zip://shp_bdry_metro_counties_and_ctus.zip\")\n",
    "metro.plot()"
   ]
  },
  {
   "cell_type": "code",
   "execution_count": 13,
   "metadata": {},
   "outputs": [
    {
     "data": {
      "text/html": [
       "<div>\n",
       "<style scoped>\n",
       "    .dataframe tbody tr th:only-of-type {\n",
       "        vertical-align: middle;\n",
       "    }\n",
       "\n",
       "    .dataframe tbody tr th {\n",
       "        vertical-align: top;\n",
       "    }\n",
       "\n",
       "    .dataframe thead th {\n",
       "        text-align: right;\n",
       "    }\n",
       "</style>\n",
       "<table border=\"1\" class=\"dataframe\">\n",
       "  <thead>\n",
       "    <tr style=\"text-align: right;\">\n",
       "      <th></th>\n",
       "      <th>COCTU_ID</th>\n",
       "      <th>COCTU_CODE</th>\n",
       "      <th>COCTU_DESC</th>\n",
       "      <th>CO_CODE</th>\n",
       "      <th>CO_NAME</th>\n",
       "      <th>CTU_ID</th>\n",
       "      <th>CTU_ID_CEN</th>\n",
       "      <th>CTU_CODE</th>\n",
       "      <th>CTU_NAME</th>\n",
       "      <th>COMCD_CENS</th>\n",
       "      <th>Shape_Leng</th>\n",
       "      <th>Shape_Area</th>\n",
       "      <th>geometry</th>\n",
       "    </tr>\n",
       "  </thead>\n",
       "  <tbody>\n",
       "    <tr>\n",
       "      <th>0</th>\n",
       "      <td>00302393954</td>\n",
       "      <td>00301486</td>\n",
       "      <td>Andover</td>\n",
       "      <td>003</td>\n",
       "      <td>Anoka</td>\n",
       "      <td>2393954</td>\n",
       "      <td>02393954</td>\n",
       "      <td>01486</td>\n",
       "      <td>Andover</td>\n",
       "      <td>3004</td>\n",
       "      <td>46098.461917</td>\n",
       "      <td>9.020958e+07</td>\n",
       "      <td>POLYGON ((479193.630 5016102.367, 479194.468 5...</td>\n",
       "    </tr>\n",
       "    <tr>\n",
       "      <th>1</th>\n",
       "      <td>00302393964</td>\n",
       "      <td>00301720</td>\n",
       "      <td>Anoka</td>\n",
       "      <td>003</td>\n",
       "      <td>Anoka</td>\n",
       "      <td>2393964</td>\n",
       "      <td>02393964</td>\n",
       "      <td>01720</td>\n",
       "      <td>Anoka</td>\n",
       "      <td>3005</td>\n",
       "      <td>24026.015964</td>\n",
       "      <td>1.842920e+07</td>\n",
       "      <td>POLYGON ((471924.925 5006595.650, 471909.815 5...</td>\n",
       "    </tr>\n",
       "    <tr>\n",
       "      <th>2</th>\n",
       "      <td>00302394156</td>\n",
       "      <td>00305554</td>\n",
       "      <td>Bethel</td>\n",
       "      <td>003</td>\n",
       "      <td>Anoka</td>\n",
       "      <td>2394156</td>\n",
       "      <td>02394156</td>\n",
       "      <td>05554</td>\n",
       "      <td>Bethel</td>\n",
       "      <td>3015</td>\n",
       "      <td>7336.748062</td>\n",
       "      <td>2.698777e+06</td>\n",
       "      <td>POLYGON ((479231.317 5026949.979, 478981.607 5...</td>\n",
       "    </tr>\n",
       "    <tr>\n",
       "      <th>3</th>\n",
       "      <td>00302394183</td>\n",
       "      <td>00306382</td>\n",
       "      <td>Blaine (Anoka Co. part)</td>\n",
       "      <td>003</td>\n",
       "      <td>Anoka</td>\n",
       "      <td>2394183</td>\n",
       "      <td>02394183</td>\n",
       "      <td>06382</td>\n",
       "      <td>Blaine</td>\n",
       "      <td>3020</td>\n",
       "      <td>47569.404746</td>\n",
       "      <td>8.764915e+07</td>\n",
       "      <td>POLYGON ((485928.451 4999192.195, 486331.695 4...</td>\n",
       "    </tr>\n",
       "    <tr>\n",
       "      <th>4</th>\n",
       "      <td>00302393784</td>\n",
       "      <td>00310648</td>\n",
       "      <td>Centerville</td>\n",
       "      <td>003</td>\n",
       "      <td>Anoka</td>\n",
       "      <td>2393784</td>\n",
       "      <td>02393784</td>\n",
       "      <td>10648</td>\n",
       "      <td>Centerville</td>\n",
       "      <td>3030</td>\n",
       "      <td>12856.740310</td>\n",
       "      <td>6.311614e+06</td>\n",
       "      <td>POLYGON ((496790.693 5001960.495, 496794.538 5...</td>\n",
       "    </tr>\n",
       "  </tbody>\n",
       "</table>\n",
       "</div>"
      ],
      "text/plain": [
       "      COCTU_ID COCTU_CODE               COCTU_DESC CO_CODE CO_NAME   CTU_ID  \\\n",
       "0  00302393954   00301486                  Andover     003   Anoka  2393954   \n",
       "1  00302393964   00301720                    Anoka     003   Anoka  2393964   \n",
       "2  00302394156   00305554                   Bethel     003   Anoka  2394156   \n",
       "3  00302394183   00306382  Blaine (Anoka Co. part)     003   Anoka  2394183   \n",
       "4  00302393784   00310648              Centerville     003   Anoka  2393784   \n",
       "\n",
       "  CTU_ID_CEN CTU_CODE     CTU_NAME  COMCD_CENS    Shape_Leng    Shape_Area  \\\n",
       "0   02393954    01486      Andover        3004  46098.461917  9.020958e+07   \n",
       "1   02393964    01720        Anoka        3005  24026.015964  1.842920e+07   \n",
       "2   02394156    05554       Bethel        3015   7336.748062  2.698777e+06   \n",
       "3   02394183    06382       Blaine        3020  47569.404746  8.764915e+07   \n",
       "4   02393784    10648  Centerville        3030  12856.740310  6.311614e+06   \n",
       "\n",
       "                                            geometry  \n",
       "0  POLYGON ((479193.630 5016102.367, 479194.468 5...  \n",
       "1  POLYGON ((471924.925 5006595.650, 471909.815 5...  \n",
       "2  POLYGON ((479231.317 5026949.979, 478981.607 5...  \n",
       "3  POLYGON ((485928.451 4999192.195, 486331.695 4...  \n",
       "4  POLYGON ((496790.693 5001960.495, 496794.538 5...  "
      ]
     },
     "execution_count": 13,
     "metadata": {},
     "output_type": "execute_result"
    }
   ],
   "source": [
    "metro.head()"
   ]
  },
  {
   "cell_type": "code",
   "execution_count": 14,
   "metadata": {},
   "outputs": [
    {
     "data": {
      "text/plain": [
       "<matplotlib.axes._subplots.AxesSubplot at 0x7f8f71c4c880>"
      ]
     },
     "execution_count": 14,
     "metadata": {},
     "output_type": "execute_result"
    },
    {
     "data": {
      "image/png": "[encoded data removed]",
      "text/plain": [
       "<Figure size 432x288 with 1 Axes>"
      ]
     },
     "metadata": {
      "needs_background": "light"
     },
     "output_type": "display_data"
    }
   ],
   "source": [
    "metro_dissolve = metro.dissolve(by = \"CO_NAME\")\n",
    "metro_dissolve.plot()"
   ]
  },
  {
   "cell_type": "code",
   "execution_count": 16,
   "metadata": {},
   "outputs": [
    {
     "data": {
      "text/plain": [
       "CO_NAME\n",
       "Anoka         True\n",
       "Carver        True\n",
       "Dakota        True\n",
       "Hennepin      True\n",
       "Ramsey        True\n",
       "Scott         True\n",
       "Washington    True\n",
       "dtype: bool"
      ]
     },
     "execution_count": 16,
     "metadata": {},
     "output_type": "execute_result"
    }
   ],
   "source": [
    "metro_dissolve.is_valid"
   ]
  },
  {
   "cell_type": "markdown",
   "metadata": {},
   "source": [
    "# Clip hydro to metro"
   ]
  },
  {
   "cell_type": "code",
   "execution_count": 17,
   "metadata": {},
   "outputs": [
    {
     "name": "stdout",
     "output_type": "stream",
     "text": [
      "epsg:26915\n",
      "epsg:26915\n"
     ]
    }
   ],
   "source": [
    "# Varifying the projections\n",
    "print(metro_dissolve.crs)\n",
    "print(hydrography.crs)"
   ]
  },
  {
   "cell_type": "code",
   "execution_count": 19,
   "metadata": {},
   "outputs": [
    {
     "name": "stdout",
     "output_type": "stream",
     "text": [
      "poly is false\n",
      "poly is false\n",
      "poly is false\n",
      "poly is false\n",
      "poly is false\n",
      "poly is false\n",
      "poly is false\n",
      "poly is false\n",
      "poly is false\n",
      "poly is false\n",
      "poly is false\n",
      "poly is false\n",
      "poly is false\n",
      "poly is false\n",
      "poly is false\n",
      "poly is false\n",
      "poly is false\n",
      "poly is false\n",
      "poly is false\n",
      "poly is false\n",
      "poly is false\n",
      "poly is false\n",
      "poly is false\n",
      "poly is false\n",
      "poly is false\n",
      "poly is false\n",
      "poly is false\n",
      "poly is false\n",
      "poly is false\n",
      "poly is false\n",
      "poly is false\n",
      "poly is false\n",
      "poly is false\n",
      "poly is false\n",
      "poly is false\n",
      "poly is false\n",
      "poly is false\n",
      "poly is false\n",
      "poly is false\n",
      "poly is false\n",
      "poly is false\n",
      "poly is false\n",
      "poly is false\n",
      "poly is false\n",
      "poly is false\n",
      "poly is false\n",
      "poly is false\n",
      "poly is false\n",
      "poly is false\n",
      "poly is false\n",
      "poly is false\n",
      "poly is false\n",
      "poly is false\n",
      "poly is false\n",
      "poly is false\n",
      "poly is false\n",
      "poly is false\n"
     ]
    }
   ],
   "source": [
    "# Checking for invalid polygon geometries since the clip operation did not work\n",
    "for i in hydrography.is_valid:\n",
    "    if i == False:\n",
    "        print(\"poly is false\")"
   ]
  },
  {
   "cell_type": "code",
   "execution_count": 27,
   "metadata": {},
   "outputs": [
    {
     "ename": "ValueError",
     "evalue": "Unknown geometry type: featurecollection",
     "output_type": "error",
     "traceback": [
      "\u001b[0;31m---------------------------------------------------------------------------\u001b[0m",
      "\u001b[0;31mKeyError\u001b[0m                                  Traceback (most recent call last)",
      "\u001b[0;32m/opt/conda/lib/python3.8/site-packages/pandas/core/series.py\u001b[0m in \u001b[0;36m__setitem__\u001b[0;34m(self, key, value)\u001b[0m\n\u001b[1;32m   1001\u001b[0m         \u001b[0;32mtry\u001b[0m\u001b[0;34m:\u001b[0m\u001b[0;34m\u001b[0m\u001b[0;34m\u001b[0m\u001b[0m\n\u001b[0;32m-> 1002\u001b[0;31m             \u001b[0mself\u001b[0m\u001b[0;34m.\u001b[0m\u001b[0m_set_with_engine\u001b[0m\u001b[0;34m(\u001b[0m\u001b[0mkey\u001b[0m\u001b[0;34m,\u001b[0m \u001b[0mvalue\u001b[0m\u001b[0;34m)\u001b[0m\u001b[0;34m\u001b[0m\u001b[0;34m\u001b[0m\u001b[0m\n\u001b[0m\u001b[1;32m   1003\u001b[0m         \u001b[0;32mexcept\u001b[0m \u001b[0;34m(\u001b[0m\u001b[0mKeyError\u001b[0m\u001b[0;34m,\u001b[0m \u001b[0mValueError\u001b[0m\u001b[0;34m)\u001b[0m\u001b[0;34m:\u001b[0m\u001b[0;34m\u001b[0m\u001b[0;34m\u001b[0m\u001b[0m\n",
      "\u001b[0;32m/opt/conda/lib/python3.8/site-packages/pandas/core/series.py\u001b[0m in \u001b[0;36m_set_with_engine\u001b[0;34m(self, key, value)\u001b[0m\n\u001b[1;32m   1032\u001b[0m         \u001b[0;31m# fails with AttributeError for IntervalIndex\u001b[0m\u001b[0;34m\u001b[0m\u001b[0;34m\u001b[0m\u001b[0;34m\u001b[0m\u001b[0m\n\u001b[0;32m-> 1033\u001b[0;31m         \u001b[0mloc\u001b[0m \u001b[0;34m=\u001b[0m \u001b[0mself\u001b[0m\u001b[0;34m.\u001b[0m\u001b[0mindex\u001b[0m\u001b[0;34m.\u001b[0m\u001b[0m_engine\u001b[0m\u001b[0;34m.\u001b[0m\u001b[0mget_loc\u001b[0m\u001b[0;34m(\u001b[0m\u001b[0mkey\u001b[0m\u001b[0;34m)\u001b[0m\u001b[0;34m\u001b[0m\u001b[0;34m\u001b[0m\u001b[0m\n\u001b[0m\u001b[1;32m   1034\u001b[0m         \u001b[0mvalidate_numeric_casting\u001b[0m\u001b[0;34m(\u001b[0m\u001b[0mself\u001b[0m\u001b[0;34m.\u001b[0m\u001b[0mdtype\u001b[0m\u001b[0;34m,\u001b[0m \u001b[0mvalue\u001b[0m\u001b[0;34m)\u001b[0m\u001b[0;34m\u001b[0m\u001b[0;34m\u001b[0m\u001b[0m\n",
      "\u001b[0;32mpandas/_libs/index.pyx\u001b[0m in \u001b[0;36mpandas._libs.index.IndexEngine.get_loc\u001b[0;34m()\u001b[0m\n",
      "\u001b[0;32mpandas/_libs/index.pyx\u001b[0m in \u001b[0;36mpandas._libs.index.IndexEngine.get_loc\u001b[0;34m()\u001b[0m\n",
      "\u001b[0;32mpandas/_libs/index_class_helper.pxi\u001b[0m in \u001b[0;36mpandas._libs.index.Int64Engine._check_type\u001b[0;34m()\u001b[0m\n",
      "\u001b[0;31mKeyError\u001b[0m: 'geometry'",
      "\nDuring handling of the above exception, another exception occurred:\n",
      "\u001b[0;31mValueError\u001b[0m                                Traceback (most recent call last)",
      "\u001b[0;32m<ipython-input-27-7dce84245aba>\u001b[0m in \u001b[0;36m<module>\u001b[0;34m\u001b[0m\n\u001b[1;32m      1\u001b[0m \u001b[0;31m# https://stackoverflow.com/questions/63955752/topologicalerror-the-operation-geosintersection-r-could-not-be-performed\u001b[0m\u001b[0;34m\u001b[0m\u001b[0;34m\u001b[0m\u001b[0;34m\u001b[0m\u001b[0m\n\u001b[0;32m----> 2\u001b[0;31m \u001b[0mhydro_valid\u001b[0m\u001b[0;34m[\u001b[0m\u001b[0;34m\"geometry\"\u001b[0m\u001b[0;34m]\u001b[0m \u001b[0;34m=\u001b[0m \u001b[0mhydrography\u001b[0m\u001b[0;34m.\u001b[0m\u001b[0mbuffer\u001b[0m\u001b[0;34m(\u001b[0m\u001b[0;36m0\u001b[0m\u001b[0;34m)\u001b[0m\u001b[0;34m\u001b[0m\u001b[0;34m\u001b[0m\u001b[0m\n\u001b[0m",
      "\u001b[0;32m/opt/conda/lib/python3.8/site-packages/pandas/core/series.py\u001b[0m in \u001b[0;36m__setitem__\u001b[0;34m(self, key, value)\u001b[0m\n\u001b[1;32m   1008\u001b[0m             \u001b[0;32melse\u001b[0m\u001b[0;34m:\u001b[0m\u001b[0;34m\u001b[0m\u001b[0;34m\u001b[0m\u001b[0m\n\u001b[1;32m   1009\u001b[0m                 \u001b[0;31m# GH#12862 adding an new key to the Series\u001b[0m\u001b[0;34m\u001b[0m\u001b[0;34m\u001b[0m\u001b[0;34m\u001b[0m\u001b[0m\n\u001b[0;32m-> 1010\u001b[0;31m                 \u001b[0mself\u001b[0m\u001b[0;34m.\u001b[0m\u001b[0mloc\u001b[0m\u001b[0;34m[\u001b[0m\u001b[0mkey\u001b[0m\u001b[0;34m]\u001b[0m \u001b[0;34m=\u001b[0m \u001b[0mvalue\u001b[0m\u001b[0;34m\u001b[0m\u001b[0;34m\u001b[0m\u001b[0m\n\u001b[0m\u001b[1;32m   1011\u001b[0m \u001b[0;34m\u001b[0m\u001b[0m\n\u001b[1;32m   1012\u001b[0m         \u001b[0;32mexcept\u001b[0m \u001b[0mTypeError\u001b[0m \u001b[0;32mas\u001b[0m \u001b[0me\u001b[0m\u001b[0;34m:\u001b[0m\u001b[0;34m\u001b[0m\u001b[0;34m\u001b[0m\u001b[0m\n",
      "\u001b[0;32m/opt/conda/lib/python3.8/site-packages/pandas/core/indexing.py\u001b[0m in \u001b[0;36m__setitem__\u001b[0;34m(self, key, value)\u001b[0m\n\u001b[1;32m    668\u001b[0m \u001b[0;34m\u001b[0m\u001b[0m\n\u001b[1;32m    669\u001b[0m         \u001b[0miloc\u001b[0m \u001b[0;34m=\u001b[0m \u001b[0mself\u001b[0m \u001b[0;32mif\u001b[0m \u001b[0mself\u001b[0m\u001b[0;34m.\u001b[0m\u001b[0mname\u001b[0m \u001b[0;34m==\u001b[0m \u001b[0;34m\"iloc\"\u001b[0m \u001b[0;32melse\u001b[0m \u001b[0mself\u001b[0m\u001b[0;34m.\u001b[0m\u001b[0mobj\u001b[0m\u001b[0;34m.\u001b[0m\u001b[0miloc\u001b[0m\u001b[0;34m\u001b[0m\u001b[0;34m\u001b[0m\u001b[0m\n\u001b[0;32m--> 670\u001b[0;31m         \u001b[0miloc\u001b[0m\u001b[0;34m.\u001b[0m\u001b[0m_setitem_with_indexer\u001b[0m\u001b[0;34m(\u001b[0m\u001b[0mindexer\u001b[0m\u001b[0;34m,\u001b[0m \u001b[0mvalue\u001b[0m\u001b[0;34m)\u001b[0m\u001b[0;34m\u001b[0m\u001b[0;34m\u001b[0m\u001b[0m\n\u001b[0m\u001b[1;32m    671\u001b[0m \u001b[0;34m\u001b[0m\u001b[0m\n\u001b[1;32m    672\u001b[0m     \u001b[0;32mdef\u001b[0m \u001b[0m_validate_key\u001b[0m\u001b[0;34m(\u001b[0m\u001b[0mself\u001b[0m\u001b[0;34m,\u001b[0m \u001b[0mkey\u001b[0m\u001b[0;34m,\u001b[0m \u001b[0maxis\u001b[0m\u001b[0;34m:\u001b[0m \u001b[0mint\u001b[0m\u001b[0;34m)\u001b[0m\u001b[0;34m:\u001b[0m\u001b[0;34m\u001b[0m\u001b[0;34m\u001b[0m\u001b[0m\n",
      "\u001b[0;32m/opt/conda/lib/python3.8/site-packages/pandas/core/indexing.py\u001b[0m in \u001b[0;36m_setitem_with_indexer\u001b[0;34m(self, indexer, value)\u001b[0m\n\u001b[1;32m   1624\u001b[0m \u001b[0;34m\u001b[0m\u001b[0m\n\u001b[1;32m   1625\u001b[0m             \u001b[0;32mif\u001b[0m \u001b[0mmissing\u001b[0m\u001b[0;34m:\u001b[0m\u001b[0;34m\u001b[0m\u001b[0;34m\u001b[0m\u001b[0m\n\u001b[0;32m-> 1626\u001b[0;31m                 \u001b[0mself\u001b[0m\u001b[0;34m.\u001b[0m\u001b[0m_setitem_with_indexer_missing\u001b[0m\u001b[0;34m(\u001b[0m\u001b[0mindexer\u001b[0m\u001b[0;34m,\u001b[0m \u001b[0mvalue\u001b[0m\u001b[0;34m)\u001b[0m\u001b[0;34m\u001b[0m\u001b[0;34m\u001b[0m\u001b[0m\n\u001b[0m\u001b[1;32m   1627\u001b[0m                 \u001b[0;32mreturn\u001b[0m\u001b[0;34m\u001b[0m\u001b[0;34m\u001b[0m\u001b[0m\n\u001b[1;32m   1628\u001b[0m \u001b[0;34m\u001b[0m\u001b[0m\n",
      "\u001b[0;32m/opt/conda/lib/python3.8/site-packages/pandas/core/indexing.py\u001b[0m in \u001b[0;36m_setitem_with_indexer_missing\u001b[0;34m(self, indexer, value)\u001b[0m\n\u001b[1;32m   1832\u001b[0m                 \u001b[0;31m#  does incorrectly\u001b[0m\u001b[0;34m\u001b[0m\u001b[0;34m\u001b[0m\u001b[0;34m\u001b[0m\u001b[0m\n\u001b[1;32m   1833\u001b[0m                 \u001b[0mnew_values\u001b[0m \u001b[0;34m=\u001b[0m \u001b[0mconcat_compat\u001b[0m\u001b[0;34m(\u001b[0m\u001b[0;34m[\u001b[0m\u001b[0mself\u001b[0m\u001b[0;34m.\u001b[0m\u001b[0mobj\u001b[0m\u001b[0;34m.\u001b[0m\u001b[0m_values\u001b[0m\u001b[0;34m,\u001b[0m \u001b[0mnew_values\u001b[0m\u001b[0;34m]\u001b[0m\u001b[0;34m)\u001b[0m\u001b[0;34m\u001b[0m\u001b[0;34m\u001b[0m\u001b[0m\n\u001b[0;32m-> 1834\u001b[0;31m             self.obj._mgr = self.obj._constructor(\n\u001b[0m\u001b[1;32m   1835\u001b[0m                 \u001b[0mnew_values\u001b[0m\u001b[0;34m,\u001b[0m \u001b[0mindex\u001b[0m\u001b[0;34m=\u001b[0m\u001b[0mnew_index\u001b[0m\u001b[0;34m,\u001b[0m \u001b[0mname\u001b[0m\u001b[0;34m=\u001b[0m\u001b[0mself\u001b[0m\u001b[0;34m.\u001b[0m\u001b[0mobj\u001b[0m\u001b[0;34m.\u001b[0m\u001b[0mname\u001b[0m\u001b[0;34m\u001b[0m\u001b[0;34m\u001b[0m\u001b[0m\n\u001b[1;32m   1836\u001b[0m             )._mgr\n",
      "\u001b[0;32m/opt/conda/lib/python3.8/site-packages/geopandas/geoseries.py\u001b[0m in \u001b[0;36m_geoseries_constructor_with_fallback\u001b[0;34m(data, index, crs, **kwargs)\u001b[0m\n\u001b[1;32m     38\u001b[0m                 \u001b[0mmodule\u001b[0m\u001b[0;34m=\u001b[0m\u001b[0;34m\"geopandas[.*]\"\u001b[0m\u001b[0;34m,\u001b[0m\u001b[0;34m\u001b[0m\u001b[0;34m\u001b[0m\u001b[0m\n\u001b[1;32m     39\u001b[0m             )\n\u001b[0;32m---> 40\u001b[0;31m             \u001b[0;32mreturn\u001b[0m \u001b[0mGeoSeries\u001b[0m\u001b[0;34m(\u001b[0m\u001b[0mdata\u001b[0m\u001b[0;34m=\u001b[0m\u001b[0mdata\u001b[0m\u001b[0;34m,\u001b[0m \u001b[0mindex\u001b[0m\u001b[0;34m=\u001b[0m\u001b[0mindex\u001b[0m\u001b[0;34m,\u001b[0m \u001b[0mcrs\u001b[0m\u001b[0;34m=\u001b[0m\u001b[0mcrs\u001b[0m\u001b[0;34m,\u001b[0m \u001b[0;34m**\u001b[0m\u001b[0mkwargs\u001b[0m\u001b[0;34m)\u001b[0m\u001b[0;34m\u001b[0m\u001b[0;34m\u001b[0m\u001b[0m\n\u001b[0m\u001b[1;32m     41\u001b[0m     \u001b[0;32mexcept\u001b[0m \u001b[0mTypeError\u001b[0m\u001b[0;34m:\u001b[0m\u001b[0;34m\u001b[0m\u001b[0;34m\u001b[0m\u001b[0m\n\u001b[1;32m     42\u001b[0m         \u001b[0;32mreturn\u001b[0m \u001b[0mSeries\u001b[0m\u001b[0;34m(\u001b[0m\u001b[0mdata\u001b[0m\u001b[0;34m=\u001b[0m\u001b[0mdata\u001b[0m\u001b[0;34m,\u001b[0m \u001b[0mindex\u001b[0m\u001b[0;34m=\u001b[0m\u001b[0mindex\u001b[0m\u001b[0;34m,\u001b[0m \u001b[0;34m**\u001b[0m\u001b[0mkwargs\u001b[0m\u001b[0;34m)\u001b[0m\u001b[0;34m\u001b[0m\u001b[0;34m\u001b[0m\u001b[0m\n",
      "\u001b[0;32m/opt/conda/lib/python3.8/site-packages/geopandas/geoseries.py\u001b[0m in \u001b[0;36m__new__\u001b[0;34m(cls, data, index, crs, **kwargs)\u001b[0m\n\u001b[1;32m    166\u001b[0m             \u001b[0;31m# try to convert to GeometryArray, if fails return plain Series\u001b[0m\u001b[0;34m\u001b[0m\u001b[0;34m\u001b[0m\u001b[0;34m\u001b[0m\u001b[0m\n\u001b[1;32m    167\u001b[0m             \u001b[0;32mtry\u001b[0m\u001b[0;34m:\u001b[0m\u001b[0;34m\u001b[0m\u001b[0;34m\u001b[0m\u001b[0m\n\u001b[0;32m--> 168\u001b[0;31m                 \u001b[0mdata\u001b[0m \u001b[0;34m=\u001b[0m \u001b[0mfrom_shapely\u001b[0m\u001b[0;34m(\u001b[0m\u001b[0ms\u001b[0m\u001b[0;34m.\u001b[0m\u001b[0mvalues\u001b[0m\u001b[0;34m,\u001b[0m \u001b[0mcrs\u001b[0m\u001b[0;34m)\u001b[0m\u001b[0;34m\u001b[0m\u001b[0;34m\u001b[0m\u001b[0m\n\u001b[0m\u001b[1;32m    169\u001b[0m             \u001b[0;32mexcept\u001b[0m \u001b[0mTypeError\u001b[0m\u001b[0;34m:\u001b[0m\u001b[0;34m\u001b[0m\u001b[0;34m\u001b[0m\u001b[0m\n\u001b[1;32m    170\u001b[0m                 \u001b[0mwarnings\u001b[0m\u001b[0;34m.\u001b[0m\u001b[0mwarn\u001b[0m\u001b[0;34m(\u001b[0m\u001b[0m_SERIES_WARNING_MSG\u001b[0m\u001b[0;34m,\u001b[0m \u001b[0mFutureWarning\u001b[0m\u001b[0;34m,\u001b[0m \u001b[0mstacklevel\u001b[0m\u001b[0;34m=\u001b[0m\u001b[0;36m2\u001b[0m\u001b[0;34m)\u001b[0m\u001b[0;34m\u001b[0m\u001b[0;34m\u001b[0m\u001b[0m\n",
      "\u001b[0;32m/opt/conda/lib/python3.8/site-packages/geopandas/array.py\u001b[0m in \u001b[0;36mfrom_shapely\u001b[0;34m(data, crs)\u001b[0m\n\u001b[1;32m    164\u001b[0m \u001b[0;34m\u001b[0m\u001b[0m\n\u001b[1;32m    165\u001b[0m     \"\"\"\n\u001b[0;32m--> 166\u001b[0;31m     \u001b[0;32mreturn\u001b[0m \u001b[0mGeometryArray\u001b[0m\u001b[0;34m(\u001b[0m\u001b[0mvectorized\u001b[0m\u001b[0;34m.\u001b[0m\u001b[0mfrom_shapely\u001b[0m\u001b[0;34m(\u001b[0m\u001b[0mdata\u001b[0m\u001b[0;34m)\u001b[0m\u001b[0;34m,\u001b[0m \u001b[0mcrs\u001b[0m\u001b[0;34m=\u001b[0m\u001b[0mcrs\u001b[0m\u001b[0;34m)\u001b[0m\u001b[0;34m\u001b[0m\u001b[0;34m\u001b[0m\u001b[0m\n\u001b[0m\u001b[1;32m    167\u001b[0m \u001b[0;34m\u001b[0m\u001b[0m\n\u001b[1;32m    168\u001b[0m \u001b[0;34m\u001b[0m\u001b[0m\n",
      "\u001b[0;32m/opt/conda/lib/python3.8/site-packages/geopandas/_vectorized.py\u001b[0m in \u001b[0;36mfrom_shapely\u001b[0;34m(data)\u001b[0m\n\u001b[1;32m    121\u001b[0m                 \u001b[0mout\u001b[0m\u001b[0;34m.\u001b[0m\u001b[0mappend\u001b[0m\u001b[0;34m(\u001b[0m\u001b[0mgeom\u001b[0m\u001b[0;34m)\u001b[0m\u001b[0;34m\u001b[0m\u001b[0;34m\u001b[0m\u001b[0m\n\u001b[1;32m    122\u001b[0m         \u001b[0;32melif\u001b[0m \u001b[0mhasattr\u001b[0m\u001b[0;34m(\u001b[0m\u001b[0mgeom\u001b[0m\u001b[0;34m,\u001b[0m \u001b[0;34m\"__geo_interface__\"\u001b[0m\u001b[0;34m)\u001b[0m\u001b[0;34m:\u001b[0m\u001b[0;34m\u001b[0m\u001b[0;34m\u001b[0m\u001b[0m\n\u001b[0;32m--> 123\u001b[0;31m             \u001b[0mgeom\u001b[0m \u001b[0;34m=\u001b[0m \u001b[0mshapely\u001b[0m\u001b[0;34m.\u001b[0m\u001b[0mgeometry\u001b[0m\u001b[0;34m.\u001b[0m\u001b[0masShape\u001b[0m\u001b[0;34m(\u001b[0m\u001b[0mgeom\u001b[0m\u001b[0;34m)\u001b[0m\u001b[0;34m\u001b[0m\u001b[0;34m\u001b[0m\u001b[0m\n\u001b[0m\u001b[1;32m    124\u001b[0m             \u001b[0;31m# asShape returns GeometryProxy -> trigger actual materialization\u001b[0m\u001b[0;34m\u001b[0m\u001b[0;34m\u001b[0m\u001b[0;34m\u001b[0m\u001b[0m\n\u001b[1;32m    125\u001b[0m             \u001b[0;31m# with one of its methods\u001b[0m\u001b[0;34m\u001b[0m\u001b[0;34m\u001b[0m\u001b[0;34m\u001b[0m\u001b[0m\n",
      "\u001b[0;32m/opt/conda/lib/python3.8/site-packages/shapely/geometry/geo.py\u001b[0m in \u001b[0;36masShape\u001b[0;34m(context)\u001b[0m\n\u001b[1;32m    180\u001b[0m         \u001b[0;32mreturn\u001b[0m \u001b[0mGeometryCollection\u001b[0m\u001b[0;34m(\u001b[0m\u001b[0mgeoms\u001b[0m\u001b[0;34m)\u001b[0m\u001b[0;34m\u001b[0m\u001b[0;34m\u001b[0m\u001b[0m\n\u001b[1;32m    181\u001b[0m     \u001b[0;32melse\u001b[0m\u001b[0;34m:\u001b[0m\u001b[0;34m\u001b[0m\u001b[0;34m\u001b[0m\u001b[0m\n\u001b[0;32m--> 182\u001b[0;31m         \u001b[0;32mraise\u001b[0m \u001b[0mValueError\u001b[0m\u001b[0;34m(\u001b[0m\u001b[0;34m\"Unknown geometry type: %s\"\u001b[0m \u001b[0;34m%\u001b[0m \u001b[0mgeom_type\u001b[0m\u001b[0;34m)\u001b[0m\u001b[0;34m\u001b[0m\u001b[0;34m\u001b[0m\u001b[0m\n\u001b[0m\u001b[1;32m    183\u001b[0m \u001b[0;34m\u001b[0m\u001b[0m\n\u001b[1;32m    184\u001b[0m \u001b[0;34m\u001b[0m\u001b[0m\n",
      "\u001b[0;31mValueError\u001b[0m: Unknown geometry type: featurecollection"
     ]
    }
   ],
   "source": [
    "# https://stackoverflow.com/questions/63955752/topologicalerror-the-operation-geosintersection-r-could-not-be-performed\n",
    "hydro_valid = hydrography.buffer(0)"
   ]
  },
  {
   "cell_type": "code",
   "execution_count": 21,
   "metadata": {},
   "outputs": [],
   "source": [
    "# Checking for invalid polygon geometries since the clip operation did not work\n",
    "for i in hydro_valid.is_valid:\n",
    "    if i == False:\n",
    "        print(\"poly is false\")"
   ]
  },
  {
   "cell_type": "code",
   "execution_count": 26,
   "metadata": {},
   "outputs": [
    {
     "data": {
      "text/plain": [
       "0    POLYGON ((265662.815 4847203.927, 265669.855 4...\n",
       "1    POLYGON ((244609.451 4847549.609, 244612.858 4...\n",
       "2    POLYGON ((248481.510 4851642.041, 248484.829 4...\n",
       "3    POLYGON ((237784.737 4851545.927, 237786.077 4...\n",
       "4    POLYGON ((246118.094 4832971.221, 246119.899 4...\n",
       "dtype: geometry"
      ]
     },
     "execution_count": 26,
     "metadata": {},
     "output_type": "execute_result"
    }
   ],
   "source": [
    "hydro_valid.head()"
   ]
  },
  {
   "cell_type": "code",
   "execution_count": 22,
   "metadata": {},
   "outputs": [],
   "source": [
    "hydro_clip = gpd.clip(hydro_valid, metro_dissolve)"
   ]
  },
  {
   "cell_type": "code",
   "execution_count": 23,
   "metadata": {},
   "outputs": [
    {
     "data": {
      "text/plain": [
       "<matplotlib.axes._subplots.AxesSubplot at 0x7f8f70e5ea00>"
      ]
     },
     "execution_count": 23,
     "metadata": {},
     "output_type": "execute_result"
    },
    {
     "data": {
      "image/png": "[encoded data removed]",
      "text/plain": [
       "<Figure size 432x288 with 1 Axes>"
      ]
     },
     "metadata": {
      "needs_background": "light"
     },
     "output_type": "display_data"
    }
   ],
   "source": [
    "hydro_clip.plot()"
   ]
  },
  {
   "cell_type": "code",
   "execution_count": 25,
   "metadata": {},
   "outputs": [
    {
     "data": {
      "text/plain": [
       "11010    POLYGON ((496245.416 4939651.635, 496236.136 4...\n",
       "11011    POLYGON ((483663.086 4931478.403, 483667.590 4...\n",
       "11029    POLYGON ((478374.781 4939101.478, 478375.441 4...\n",
       "11036    POLYGON ((502501.062 4940083.279, 502489.412 4...\n",
       "11048    POLYGON ((483236.733 4935496.847, 483245.873 4...\n",
       "Name: geometry, dtype: geometry"
      ]
     },
     "execution_count": 25,
     "metadata": {},
     "output_type": "execute_result"
    }
   ],
   "source": [
    "hydro_clip.head()\n",
    "\n",
    "#hydro_lake = hydro_clip.loc[hydro_clip[\"wb_class\"] == \"Lake or Pond\"]\n",
    "#hydro_lake.plot()"
   ]
  },
  {
   "cell_type": "markdown",
   "metadata": {},
   "source": [
    "# Load 2014, 2016, 2018 water files"
   ]
  },
  {
   "cell_type": "code",
   "execution_count": null,
   "metadata": {},
   "outputs": [],
   "source": [
    "water2018 = gpd.read_file(\"zip://impaired_2018_lakes.zip\")\n",
    "water2016 = gpd.read_file(\"zip://impaired_2016_lakes.zip\")\n",
    "water2014 = gpd.read_file(\"zip://impaired_2014_lakes.zip\")"
   ]
  },
  {
   "cell_type": "code",
   "execution_count": null,
   "metadata": {},
   "outputs": [],
   "source": [
    "water2018.plot()"
   ]
  },
  {
   "cell_type": "code",
   "execution_count": null,
   "metadata": {},
   "outputs": [],
   "source": [
    "for col in water2018.columns:\n",
    "    print(col)"
   ]
  },
  {
   "cell_type": "code",
   "execution_count": null,
   "metadata": {},
   "outputs": [],
   "source": [
    "water2018 = water2018.drop([\"CAT\", \"CAT_DESC\", \"REACH_DESC\", \"AREA_ACRES\", \"AFFECTED_U\", \"LIKE_MEET\", \"NON_POLL\", \n",
    "                \"NAT_BACK\", \"ADD_MON\", \"APPROVED\", \"NEEDS_PLN\", \"NEW_IMPAIR\", \"HUC_8\", \"HUC_8_NAME\", \"HUC_4\", \"BASIN\", \n",
    "                \"COUNTY\", \"TRIBAL_INT\", \"INDIAN_RES\", \"AMMONIA\", \"CHLORIDE\", \"FISHESBIO\", \"HG_F\", \"HG_W\", \n",
    "                \"NUTRIENTS\", \"PCB_F\", \"PFOS_F\", \"Shape_Leng\", \"Shape_Area\"], axis = 1)\n"
   ]
  },
  {
   "cell_type": "code",
   "execution_count": null,
   "metadata": {},
   "outputs": [],
   "source": [
    "water2018"
   ]
  },
  {
   "cell_type": "code",
   "execution_count": null,
   "metadata": {},
   "outputs": [],
   "source": [
    "for col in water2016.columns:\n",
    "    print(col)"
   ]
  },
  {
   "cell_type": "code",
   "execution_count": null,
   "metadata": {},
   "outputs": [],
   "source": [
    "water2016.drop([\"CAT\", \"DATASET_NA\", \"REACH_DESC\", \"AREA_ACRES\", \"AFFECTED_U\", \"TMDL_NOT_R\", \"TMDL_NOT_1\", \"IMPAIR_P_1\", \"NEW_IMPAIR\", \"NEW_IMPA_1\", \n",
    "                \"TMDL_APPRO\", \"TMDL_APP_1\", \"TMDL_NEEDE\", \"TMDL_NEE_1\", \"HUC_8\", \"HUC_8_NAME\", \"HUC_4\", \n",
    "                \"BASIN\", \"COUNTY\", \"TRIBAL_INT\", \"INDIAN_RES\", \"CHLORIDE\", \"FISHESBIO\", \"HG_F\", \"HG_W\", \n",
    "                \"NUTRIENTS\", \"PCB_F\", \"PFOS_F\", \"SHAPE_Leng\", \"SHAPE_Area\"], axis = 1)"
   ]
  },
  {
   "cell_type": "code",
   "execution_count": null,
   "metadata": {},
   "outputs": [],
   "source": [
    "for col in water2014.columns:\n",
    "    print(col)"
   ]
  },
  {
   "cell_type": "code",
   "execution_count": null,
   "metadata": {},
   "outputs": [],
   "source": [
    "water2014 = water2014.drop([\"LOCATION\", \"ACRES\", \"CAT\", \"AFFECTED_U\", \"NOPLN\", \"APPROVED\", \"NEEDSPLN\", \"NEW_2014\", \n",
    "                \"HUC8\", \"HUC8_NAME\", \"HUC4\", \"BASIN\", \"ALL_COUNTI\", \"WDWMO_NAME\", \"WDWMO_TYPE\", \"Chloride\", \n",
    "                \"HgF\", \"HgW\", \"Nutrients\", \"PCBF\", \"PFOS_W\", \"SHAPE_Leng\", \"Shape_Le_1\", \"Shape_Area\"], axis = 1)\n",
    "water2014"
   ]
  },
  {
   "cell_type": "code",
   "execution_count": null,
   "metadata": {},
   "outputs": [],
   "source": [
    "water2014.rename(columns = {\"WATER_NAME\" : \"NAME\"})"
   ]
  },
  {
   "cell_type": "markdown",
   "metadata": {},
   "source": [
    "# Load water 2020 data csv"
   ]
  },
  {
   "cell_type": "code",
   "execution_count": null,
   "metadata": {},
   "outputs": [],
   "source": [
    "water2020 = gpd.read_file(\"wq-iw1-65.csv\")"
   ]
  },
  {
   "cell_type": "code",
   "execution_count": null,
   "metadata": {},
   "outputs": [],
   "source": [
    "for col in water2020.columns:\n",
    "    print(col)"
   ]
  },
  {
   "cell_type": "code",
   "execution_count": null,
   "metadata": {},
   "outputs": [],
   "source": [
    "water2020.head()\n",
    "test = water2020[[\"Water body name\", \"AUID\", \"Water body type\", \"Use Class\", \"Pollutant or stressor\", \"geometry\"]]\n",
    "test"
   ]
  },
  {
   "cell_type": "code",
   "execution_count": null,
   "metadata": {},
   "outputs": [],
   "source": [
    "test2 = test.loc[(test[\"Water body type\"] == \"Lake\")]\n",
    "test2"
   ]
  },
  {
   "cell_type": "markdown",
   "metadata": {},
   "source": [
    "# Trying to remove duplicates"
   ]
  },
  {
   "cell_type": "code",
   "execution_count": null,
   "metadata": {},
   "outputs": [],
   "source": [
    "#join test2 to water2018\n",
    "# output 1946 rows...there are duplicates...???\n",
    "jointest = test2.merge(water2018, on = \"AUID\")\n",
    "\n",
    "jointest"
   ]
  },
  {
   "cell_type": "code",
   "execution_count": null,
   "metadata": {},
   "outputs": [],
   "source": [
    "test3 = test2.groupby(\"AUID\", as_index = False)[\"Pollutant or stressor\"].apply(\";\".join)\n",
    "test3"
   ]
  },
  {
   "cell_type": "code",
   "execution_count": null,
   "metadata": {},
   "outputs": [],
   "source": [
    "#join test3 back to test2\n",
    "\n",
    "test4 = test2.merge(test3, how = \"inner\", on = \"AUID\")\n",
    "test4"
   ]
  },
  {
   "cell_type": "markdown",
   "metadata": {},
   "source": [
    "# Load blockgroup data and intersecting it with the water data"
   ]
  },
  {
   "cell_type": "code",
   "execution_count": null,
   "metadata": {},
   "outputs": [],
   "source": [
    "blockgroups_df = gpd.read_file('zip://tl_2019_27_bg.zip')\n",
    "print(f'Loaded {len(blockgroups_df):,} block groups')"
   ]
  },
  {
   "cell_type": "code",
   "execution_count": null,
   "metadata": {},
   "outputs": [],
   "source": [
    "blockgroups_df.plot()"
   ]
  },
  {
   "cell_type": "code",
   "execution_count": null,
   "metadata": {},
   "outputs": [],
   "source": [
    "print(blockgroups_df.crs)\n",
    "print(water2018.crs)"
   ]
  },
  {
   "cell_type": "code",
   "execution_count": null,
   "metadata": {},
   "outputs": [],
   "source": [
    "bg_proj = blockgroups_df.to_crs('EPSG:26915')\n",
    "bg_proj.plot()"
   ]
  },
  {
   "cell_type": "code",
   "execution_count": null,
   "metadata": {},
   "outputs": [],
   "source": [
    "water2018_intersect_bg_proj = gpd.overlay(water2018, bg_proj, how='intersection')\n",
    "water2018_intersect_bg_proj.plot()\n",
    "water2018_intersect_bg_proj.head()"
   ]
  },
  {
   "cell_type": "code",
   "execution_count": null,
   "metadata": {},
   "outputs": [],
   "source": [
    "### Code Review Comments ###\n",
    "# add columns and then remove duplicates again\n",
    "# find lakes that have been added/removed, and look at the traffic at that spot now\n",
    "# Smaller scale? Just one city\n",
    "# function for selecting data with block groups"
   ]
  },
  {
   "cell_type": "code",
   "execution_count": null,
   "metadata": {},
   "outputs": [],
   "source": []
  }
 ],
 "metadata": {
  "kernelspec": {
   "display_name": "Python 3",
   "language": "python",
   "name": "python3"
  },
  "language_info": {
   "codemirror_mode": {
    "name": "ipython",
    "version": 3
   },
   "file_extension": ".py",
   "mimetype": "text/x-python",
   "name": "python",
   "nbconvert_exporter": "python",
   "pygments_lexer": "ipython3",
   "version": "3.8.5"
  }
 },
 "nbformat": 4,
 "nbformat_minor": 4
}

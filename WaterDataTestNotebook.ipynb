{
 "cells": [
  {
   "cell_type": "code",
   "execution_count": 1,
   "metadata": {},
   "outputs": [],
   "source": [
    "import pandas as pd\n",
    "import geopandas as gpd"
   ]
  },
  {
   "cell_type": "code",
   "execution_count": null,
   "metadata": {},
   "outputs": [],
   "source": []
  },
  {
   "cell_type": "markdown",
   "metadata": {},
   "source": [
    "# Load hydrography data"
   ]
  },
  {
   "cell_type": "code",
   "execution_count": 2,
   "metadata": {},
   "outputs": [],
   "source": [
    "hydrography = gpd.read_file(\"zip://shp_water_dnr_hydrography.zip\")"
   ]
  },
  {
   "cell_type": "code",
   "execution_count": 4,
   "metadata": {},
   "outputs": [
    {
     "name": "stdout",
     "output_type": "stream",
     "text": [
      "fw_id\n",
      "dowlknum\n",
      "pw_basin_n\n",
      "pw_parent_\n",
      "pw_sub_nam\n",
      "sub_flag\n",
      "wb_class\n",
      "lake_class\n",
      "acres\n",
      "shore_mi\n",
      "center_utm\n",
      "center_u_1\n",
      "cty_name\n",
      "dnr_region\n",
      "fsh_office\n",
      "outside_mn\n",
      "delineated\n",
      "delineatio\n",
      "delineat_1\n",
      "delineat_2\n",
      "approved_b\n",
      "approval_d\n",
      "approval_n\n",
      "has_flag\n",
      "flag_type\n",
      "publish_da\n",
      "lksdb_basi\n",
      "has_wld_fl\n",
      "wld_flag_t\n",
      "unique_id\n",
      "created_us\n",
      "created_da\n",
      "last_edite\n",
      "last_edi_1\n",
      "ow_use\n",
      "pwi_class\n",
      "map_displa\n",
      "map_label\n",
      "shape_Leng\n",
      "shape_Area\n",
      "INSIDE_X\n",
      "INSIDE_Y\n",
      "in_lakefin\n",
      "geometry\n"
     ]
    }
   ],
   "source": [
    "hydrography.head()\n",
    "for col in hydrography.columns:\n",
    "    print(col)"
   ]
  },
  {
   "cell_type": "code",
   "execution_count": null,
   "metadata": {},
   "outputs": [],
   "source": [
    "for i in hydrography.is_valid:\n",
    "    if i == False:\n",
    "        print(\"poly is false\")\n"
   ]
  },
  {
   "cell_type": "code",
   "execution_count": 3,
   "metadata": {},
   "outputs": [],
   "source": [
    "# Locate all invalid gometries and drop them from the dataset\n",
    "hydro_drop_invalid = hydrography.loc[hydrography['geometry'].is_valid, :]"
   ]
  },
  {
   "cell_type": "code",
   "execution_count": null,
   "metadata": {},
   "outputs": [],
   "source": [
    "for i in hydro_drop_invalid.is_valid:\n",
    "    if i == False:\n",
    "        print(\"poly is false\")"
   ]
  },
  {
   "cell_type": "markdown",
   "metadata": {},
   "source": [
    "# Load 7 county metro"
   ]
  },
  {
   "cell_type": "code",
   "execution_count": null,
   "metadata": {},
   "outputs": [],
   "source": [
    "metro = gpd.read_file(\"zip://shp_bdry_metro_counties_and_ctus.zip\")\n",
    "metro.plot()"
   ]
  },
  {
   "cell_type": "code",
   "execution_count": null,
   "metadata": {},
   "outputs": [],
   "source": [
    "metro.head()"
   ]
  },
  {
   "cell_type": "code",
   "execution_count": null,
   "metadata": {},
   "outputs": [],
   "source": [
    "metro_dissolve = metro.dissolve(by = \"CO_NAME\")\n",
    "metro_dissolve.plot()"
   ]
  },
  {
   "cell_type": "code",
   "execution_count": null,
   "metadata": {},
   "outputs": [],
   "source": [
    "metro_dissolve.is_valid"
   ]
  },
  {
   "cell_type": "markdown",
   "metadata": {},
   "source": [
    "# Clip hydro to metro"
   ]
  },
  {
   "cell_type": "code",
   "execution_count": null,
   "metadata": {},
   "outputs": [],
   "source": [
    "# Varifying the projections\n",
    "print(metro_dissolve.crs)\n",
    "print(hydrography.crs)"
   ]
  },
  {
   "cell_type": "code",
   "execution_count": null,
   "metadata": {},
   "outputs": [],
   "source": [
    "# Checking for invalid polygon geometries since the clip operation did not work\n",
    "for i in hydrography.is_valid:\n",
    "    if i == False:\n",
    "        print(\"poly is false\")"
   ]
  },
  {
   "cell_type": "code",
   "execution_count": null,
   "metadata": {},
   "outputs": [],
   "source": [
    "# https://stackoverflow.com/questions/63955752/topologicalerror-the-operation-geosintersection-r-could-not-be-performed\n",
    "hydro_valid = hydrography.buffer(0)"
   ]
  },
  {
   "cell_type": "code",
   "execution_count": null,
   "metadata": {},
   "outputs": [],
   "source": [
    "# Checking for invalid polygon geometries since the clip operation did not work\n",
    "for i in hydro_valid.is_valid:\n",
    "    if i == False:\n",
    "        print(\"poly is false\")"
   ]
  },
  {
   "cell_type": "code",
   "execution_count": null,
   "metadata": {},
   "outputs": [],
   "source": [
    "hydro_valid.head()"
   ]
  },
  {
   "cell_type": "code",
   "execution_count": null,
   "metadata": {},
   "outputs": [],
   "source": [
    "hydro_clip = gpd.clip(hydro_drop_invalid, metro_dissolve)"
   ]
  },
  {
   "cell_type": "code",
   "execution_count": null,
   "metadata": {},
   "outputs": [],
   "source": [
    "hydro_clip.plot()"
   ]
  },
  {
   "cell_type": "code",
   "execution_count": null,
   "metadata": {},
   "outputs": [],
   "source": [
    "hydro_lake = hydro_clip.loc[hydro_clip[\"wb_class\"] == \"Lake or Pond\"]"
   ]
  },
  {
   "cell_type": "code",
   "execution_count": null,
   "metadata": {},
   "outputs": [],
   "source": [
    "hydro_lake.head()"
   ]
  },
  {
   "cell_type": "code",
   "execution_count": null,
   "metadata": {},
   "outputs": [],
   "source": [
    "hydro_clip.head()\n",
    "\n",
    "#hydro_lake = hydro_clip.loc[hydro_clip[\"wb_class\"] == \"Lake or Pond\"]\n",
    "#hydro_lake.plot()"
   ]
  },
  {
   "cell_type": "markdown",
   "metadata": {},
   "source": [
    "# Load 2014, 2016, 2018 water files"
   ]
  },
  {
   "cell_type": "code",
   "execution_count": null,
   "metadata": {},
   "outputs": [],
   "source": [
    "water2018 = gpd.read_file(\"zip://impaired_2018_lakes.zip\")\n",
    "water2016 = gpd.read_file(\"zip://impaired_2016_lakes.zip\")\n",
    "water2014 = gpd.read_file(\"zip://impaired_2014_lakes.zip\")"
   ]
  },
  {
   "cell_type": "code",
   "execution_count": null,
   "metadata": {},
   "outputs": [],
   "source": [
    "water2018.plot()"
   ]
  },
  {
   "cell_type": "code",
   "execution_count": null,
   "metadata": {},
   "outputs": [],
   "source": [
    "for col in water2018.columns:\n",
    "    print(col)"
   ]
  },
  {
   "cell_type": "code",
   "execution_count": null,
   "metadata": {},
   "outputs": [],
   "source": [
    "water2018 = water2018.drop([\"CAT\", \"CAT_DESC\", \"REACH_DESC\", \"USE_CLASS\", \"AREA_ACRES\", \"AFFECTED_U\", \"LIKE_MEET\", \"NON_POLL\", \n",
    "                            \"NAT_BACK\", \"ADD_MON\", \"APPROVED\", \"NEEDS_PLN\", \"IMP_PARAM\", \"NEW_IMPAIR\", \"HUC_8\", \"HUC_8_NAME\", \"HUC_4\", \"BASIN\", \n",
    "                            \"TRIBAL_INT\", \"INDIAN_RES\", \"AMMONIA\", \"CHLORIDE\", \"FISHESBIO\", \"HG_F\", \"HG_W\", \n",
    "                            \"NUTRIENTS\", \"PCB_F\", \"PFOS_F\", \"Shape_Leng\", \"Shape_Area\"], axis = 1)\n"
   ]
  },
  {
   "cell_type": "code",
   "execution_count": null,
   "metadata": {},
   "outputs": [],
   "source": [
    "water2018"
   ]
  },
  {
   "cell_type": "code",
   "execution_count": null,
   "metadata": {},
   "outputs": [],
   "source": [
    "for col in water2016.columns:\n",
    "    print(col)"
   ]
  },
  {
   "cell_type": "code",
   "execution_count": null,
   "metadata": {},
   "outputs": [],
   "source": [
    "water2016 = water2016.drop([\"CAT\", \"DATASET_NA\", \"REACH_DESC\", \"USE_CLASS\", \"AREA_ACRES\", \"AFFECTED_U\", \"TMDL_NOT_R\", \"TMDL_NOT_1\", \"IMPAIR_PAR\", \"IMPAIR_P_1\", \"NEW_IMPAIR\", \"NEW_IMPA_1\", \n",
    "                \"TMDL_APPRO\", \"TMDL_APP_1\", \"TMDL_NEEDE\", \"TMDL_NEE_1\", \"HUC_8\", \"HUC_8_NAME\", \"HUC_4\", \n",
    "                \"BASIN\", \"TRIBAL_INT\", \"INDIAN_RES\", \"CHLORIDE\", \"FISHESBIO\", \"HG_F\", \"HG_W\", \n",
    "                \"NUTRIENTS\", \"PCB_F\", \"PFOS_F\", \"SHAPE_Leng\", \"SHAPE_Area\"], axis = 1)"
   ]
  },
  {
   "cell_type": "code",
   "execution_count": null,
   "metadata": {},
   "outputs": [],
   "source": [
    "water2016"
   ]
  },
  {
   "cell_type": "code",
   "execution_count": null,
   "metadata": {},
   "outputs": [],
   "source": [
    "for col in water2014.columns:\n",
    "    print(col)"
   ]
  },
  {
   "cell_type": "code",
   "execution_count": null,
   "metadata": {},
   "outputs": [],
   "source": [
    "water2014 = water2014.drop([\"LOCATION\", \"ACRES\", \"CAT\", \"AFFECTED_U\", \"NOPLN\", \"APPROVED\", \"NEEDSPLN\", \"IMPAIR_PAR\", \"NEW_2014\", \n",
    "                \"HUC8\", \"HUC8_NAME\", \"HUC4\", \"BASIN\", \"WDWMO_NAME\", \"WDWMO_TYPE\", \"Chloride\", \n",
    "                \"HgF\", \"HgW\", \"Nutrients\", \"PCBF\", \"PFOS_W\", \"SHAPE_Leng\", \"Shape_Le_1\", \"Shape_Area\"], axis = 1)\n",
    "water2014"
   ]
  },
  {
   "cell_type": "code",
   "execution_count": null,
   "metadata": {},
   "outputs": [],
   "source": [
    "water2014 = water2014.rename(columns = {\"WATER_NAME\" : \"NAME\", \"ALL_COUNTI\" : \"COUNTY\"})\n",
    "water2014"
   ]
  },
  {
   "cell_type": "markdown",
   "metadata": {},
   "source": [
    "# Clipping impaired waters layers to 7 county metro"
   ]
  },
  {
   "cell_type": "code",
   "execution_count": null,
   "metadata": {},
   "outputs": [],
   "source": [
    "# Checking for invalid polygon geometries since the clip operation did not work\n",
    "for i in water2018.is_valid:\n",
    "    if i == False:\n",
    "        print(\"poly is false\")"
   ]
  },
  {
   "cell_type": "code",
   "execution_count": null,
   "metadata": {},
   "outputs": [],
   "source": [
    "water2018_drop_invalid = water2018.loc[water2018['geometry'].is_valid, :]"
   ]
  },
  {
   "cell_type": "code",
   "execution_count": null,
   "metadata": {},
   "outputs": [],
   "source": [
    "for i in water2018_drop_invalid.is_valid:\n",
    "    if i == False:\n",
    "        print(\"poly is false\")"
   ]
  },
  {
   "cell_type": "code",
   "execution_count": null,
   "metadata": {},
   "outputs": [],
   "source": [
    "water2018_drop_invalid"
   ]
  },
  {
   "cell_type": "code",
   "execution_count": null,
   "metadata": {},
   "outputs": [],
   "source": [
    "for i in water2016.is_valid:\n",
    "    if i == False:\n",
    "        print(\"poly is false\")"
   ]
  },
  {
   "cell_type": "code",
   "execution_count": null,
   "metadata": {},
   "outputs": [],
   "source": [
    "water2016_drop_invalid = water2016.loc[water2016['geometry'].is_valid, :]"
   ]
  },
  {
   "cell_type": "code",
   "execution_count": null,
   "metadata": {},
   "outputs": [],
   "source": [
    "for i in water2016_drop_invalid.is_valid:\n",
    "    if i == False:\n",
    "        print(\"poly is false\")"
   ]
  },
  {
   "cell_type": "code",
   "execution_count": null,
   "metadata": {},
   "outputs": [],
   "source": [
    "water2016_drop_invalid"
   ]
  },
  {
   "cell_type": "code",
   "execution_count": null,
   "metadata": {},
   "outputs": [],
   "source": [
    "for i in water2014.is_valid:\n",
    "    if i == False:\n",
    "        print(\"poly is false\")"
   ]
  },
  {
   "cell_type": "code",
   "execution_count": null,
   "metadata": {},
   "outputs": [],
   "source": [
    "water2014_drop_invalid = water2014.loc[water2014['geometry'].is_valid, :]"
   ]
  },
  {
   "cell_type": "code",
   "execution_count": null,
   "metadata": {},
   "outputs": [],
   "source": [
    "for i in water2014_drop_invalid.is_valid:\n",
    "    if i == False:\n",
    "        print(\"poly is false\")"
   ]
  },
  {
   "cell_type": "code",
   "execution_count": null,
   "metadata": {},
   "outputs": [],
   "source": [
    "water2014_drop_invalid"
   ]
  },
  {
   "cell_type": "code",
   "execution_count": null,
   "metadata": {},
   "outputs": [],
   "source": [
    "water2018_clip = gpd.clip(water2018_drop_invalid, metro_dissolve)"
   ]
  },
  {
   "cell_type": "code",
   "execution_count": null,
   "metadata": {},
   "outputs": [],
   "source": [
    "water2018_clip.head()"
   ]
  },
  {
   "cell_type": "code",
   "execution_count": null,
   "metadata": {},
   "outputs": [],
   "source": [
    "water2016_clip = gpd.clip(water2016_drop_invalid, metro_dissolve)"
   ]
  },
  {
   "cell_type": "code",
   "execution_count": null,
   "metadata": {},
   "outputs": [],
   "source": [
    "water2016_clip.head()"
   ]
  },
  {
   "cell_type": "code",
   "execution_count": null,
   "metadata": {},
   "outputs": [],
   "source": [
    "water2014_proj = water2014_drop_invalid.to_crs('EPSG:26915')"
   ]
  },
  {
   "cell_type": "code",
   "execution_count": null,
   "metadata": {},
   "outputs": [],
   "source": [
    "water2014_clip = gpd.clip(water2014_proj, metro_dissolve)"
   ]
  },
  {
   "cell_type": "code",
   "execution_count": null,
   "metadata": {},
   "outputs": [],
   "source": [
    "water2014_clip.head()"
   ]
  },
  {
   "cell_type": "markdown",
   "metadata": {},
   "source": [
    "# Load water 2020 data csv"
   ]
  },
  {
   "cell_type": "code",
   "execution_count": null,
   "metadata": {},
   "outputs": [],
   "source": [
    "water2020 = gpd.read_file(\"wq-iw1-65.csv\")\n"
   ]
  },
  {
   "cell_type": "code",
   "execution_count": null,
   "metadata": {},
   "outputs": [],
   "source": [
    "for col in water2020.columns:\n",
    "    print(col)"
   ]
  },
  {
   "cell_type": "code",
   "execution_count": null,
   "metadata": {},
   "outputs": [],
   "source": [
    "water2020 = water2020[[\"Water body name\", \"AUID\", \"Water body type\", \"geometry\"]]\n"
   ]
  },
  {
   "cell_type": "code",
   "execution_count": null,
   "metadata": {},
   "outputs": [],
   "source": [
    "water2020_lake = water2020.loc[(water2020[\"Water body type\"] == \"Lake\")]\n",
    "\n"
   ]
  },
  {
   "cell_type": "code",
   "execution_count": null,
   "metadata": {},
   "outputs": [],
   "source": [
    "water2020_lake = water2020_lake[[\"Water body name\", \"AUID\", \"geometry\"]]"
   ]
  },
  {
   "cell_type": "code",
   "execution_count": null,
   "metadata": {},
   "outputs": [],
   "source": [
    "# Renaming the columns to match the two other datasets\n",
    "water2020_lake = water2020_lake.rename(columns = {\"Water body name\" : \"NAME\"})\n",
    "\n",
    "water2020_lake"
   ]
  },
  {
   "cell_type": "markdown",
   "metadata": {},
   "source": [
    "# Trying to remove duplicates"
   ]
  },
  {
   "cell_type": "code",
   "execution_count": null,
   "metadata": {},
   "outputs": [],
   "source": [
    "#join test2 to water2018\n",
    "# output 1946 rows...there are duplicates...???\n",
    "jointest = test2.merge(water2018, on = \"AUID\")\n",
    "\n",
    "jointest"
   ]
  },
  {
   "cell_type": "code",
   "execution_count": null,
   "metadata": {},
   "outputs": [],
   "source": [
    "test3 = test2.groupby(\"AUID\", as_index = False)[\"Pollutant or stressor\"].apply(\";\".join)\n",
    "test3"
   ]
  },
  {
   "cell_type": "code",
   "execution_count": null,
   "metadata": {},
   "outputs": [],
   "source": [
    "#join test3 back to test2\n",
    "\n",
    "test4 = test2.merge(test3, how = \"inner\", on = \"AUID\")\n",
    "test4"
   ]
  },
  {
   "cell_type": "code",
   "execution_count": null,
   "metadata": {},
   "outputs": [],
   "source": [
    "# Loading the draft 2020 impaired water list\n",
    "water2020 = gpd.read_file(\"wq-iw1-65.csv\")\n",
    "\n",
    "# retreiving all the column names\n",
    "for col in water2020.columns:\n",
    "    print(col)\n",
    "\n",
    "# Sampling the data, to get a look at what we are dealing with\n",
    "water2020.head()\n",
    "\n",
    "# Selecting out the columns we want to keep\n",
    "water2020 = water2020[[\"Water body name\", \"AUID\", \"Water body type\", \"Use Class\", \"Pollutant or stressor\", \"geometry\"]]\n",
    "water2020.head()\n",
    "\n",
    "# Selecting out only the lake features to keep in line with the 3 other shapefiles we are already working with\n",
    "water2020_lake = water2020.loc[(test[\"Water body type\"] == \"Lake\")]\n",
    "\n",
    "# Removing duplicate records --> grouping by AUID, and joining the polluatant or stressor field with \";\" when they differ\n",
    "# for the repeated AUID. This happens because a lake can have more than one stressor to get on the impaired water list.\n",
    "water2020_remove_duplicates = water2020_lake.groupby(\"AUID\", as_index = False)[\"Pollutant or stressor\"].apply(\";\".join)\n",
    "water2020_remove_duplicates\n",
    "\n",
    "# Failed attempt to join the other needed columns back to the dataset after removing the duplicates\n",
    "jointest1 = water2020_remove_duplicates.merge(water2020_lake, how = \"inner\", on = \"AUID\")\n",
    "jointest1\n",
    "\n",
    "# Attempt to get geometry for the 2020 dataset from the 2018 dataset\n",
    "# Have not figured out the best way to do this yet. \n",
    "jointest2 = water2020_remove_duplicates.merge(water2018, on = \"AUID\")\n",
    "jointest2\n",
    "\n"
   ]
  },
  {
   "cell_type": "markdown",
   "metadata": {},
   "source": [
    "# Load blockgroup data and intersecting it with the water data"
   ]
  },
  {
   "cell_type": "code",
   "execution_count": null,
   "metadata": {},
   "outputs": [],
   "source": [
    "blockgroups_df = gpd.read_file('zip://tl_2019_27_bg.zip')\n",
    "print(f'Loaded {len(blockgroups_df):,} block groups')"
   ]
  },
  {
   "cell_type": "code",
   "execution_count": null,
   "metadata": {},
   "outputs": [],
   "source": [
    "blockgroups_df.plot()"
   ]
  },
  {
   "cell_type": "code",
   "execution_count": null,
   "metadata": {},
   "outputs": [],
   "source": [
    "print(blockgroups_df.crs)\n",
    "print(water2018.crs)"
   ]
  },
  {
   "cell_type": "code",
   "execution_count": null,
   "metadata": {},
   "outputs": [],
   "source": [
    "bg_proj = blockgroups_df.to_crs('EPSG:26915')\n",
    "bg_proj.plot()"
   ]
  },
  {
   "cell_type": "code",
   "execution_count": null,
   "metadata": {},
   "outputs": [],
   "source": [
    "water2018_intersect_bg_proj = gpd.overlay(water2018, bg_proj, how='intersection')\n",
    "water2018_intersect_bg_proj.plot()\n",
    "water2018_intersect_bg_proj.head()"
   ]
  },
  {
   "cell_type": "code",
   "execution_count": null,
   "metadata": {},
   "outputs": [],
   "source": [
    "### Code Review Comments ###\n",
    "# add columns and then remove duplicates again\n",
    "# find lakes that have been added/removed, and look at the traffic at that spot now\n",
    "# Smaller scale? Just one city\n",
    "# function for selecting data with block groups"
   ]
  },
  {
   "cell_type": "code",
   "execution_count": null,
   "metadata": {},
   "outputs": [],
   "source": []
  },
  {
   "cell_type": "code",
   "execution_count": null,
   "metadata": {},
   "outputs": [],
   "source": []
  },
  {
   "cell_type": "code",
   "execution_count": 13,
   "metadata": {},
   "outputs": [],
   "source": [
    "'''\n",
    "Author: Nicole Dunn\n",
    "\n",
    "This python script purpose is to clean spatial data files that will be used in \n",
    "future analysis. Cleaning the data includes removing fields that are not needed, \n",
    "removing invalid geometries from the geodataframes, adding geometery where there \n",
    "is none, and clipping all the data to the 7 county metro as the area of interest.\n",
    "'''\n",
    "\n",
    "import pandas as pd\n",
    "import geopandas as gpd\n",
    "\n",
    "# Loading all shapefile datasets in as geopandas dataframes\n",
    "hydrography = gpd.read_file(\"zip://shp_water_dnr_hydrography.zip\")\n",
    "water2018 = gpd.read_file(\"zip://impaired_2018_lakes.zip\")\n",
    "water2016 = gpd.read_file(\"zip://impaired_2016_lakes.zip\")\n",
    "water2014 = gpd.read_file(\"zip://impaired_2014_lakes.zip\")\n",
    "metro = gpd.read_file(\"zip://shp_bdry_metro_counties_and_ctus.zip\")\n",
    "\n",
    "\n",
    "# Cleaning the metro dataset, dissolving on the county name. \n",
    "metro_dissolve = metro.dissolve(by = \"CO_NAME\")\n",
    "\n",
    "# There are many columns in this dataset,\n",
    "# this is to be able to see all of them to easily\n",
    "# choose the ones we will keep\n",
    "columns18 =[]\n",
    "columns16 =[]\n",
    "columns14 =[]\n",
    "\n",
    "for col in water2018.columns:\n",
    "    columns18.append(col)\n",
    "    \n",
    "for col in water2016.columns:\n",
    "    columns16.append(col)\n",
    "    \n",
    "for col in water2014.columns:\n",
    "    columns14.append(col)\n",
    "\n",
    "# Dropping all the unnecessary columns\n",
    "water2018 = water2018.drop([\"CAT\", \"CAT_DESC\", \"REACH_DESC\", \"USE_CLASS\", \"AFFECTED_U\", \"LIKE_MEET\", \n",
    "                            \"NON_POLL\", \"NAT_BACK\", \"ADD_MON\", \"APPROVED\", \"NEEDS_PLN\", \"IMP_PARAM\", \"NEW_IMPAIR\", \n",
    "                            \"HUC_8\", \"HUC_8_NAME\", \"HUC_4\", \"BASIN\", \"TRIBAL_INT\", \"INDIAN_RES\", \"AMMONIA\", \"CHLORIDE\", \n",
    "                            \"FISHESBIO\", \"HG_F\", \"HG_W\", \"NUTRIENTS\", \"PCB_F\", \"PFOS_F\", \"Shape_Leng\", \"Shape_Area\"], axis = 1)\n",
    "\n",
    "water2016 = water2016.drop([\"CAT\", \"DATASET_NA\", \"REACH_DESC\", \"USE_CLASS\", \"AFFECTED_U\", \"TMDL_NOT_R\", \n",
    "                            \"TMDL_NOT_1\", \"IMPAIR_PAR\", \"IMPAIR_P_1\", \"NEW_IMPAIR\", \"NEW_IMPA_1\", \"TMDL_APPRO\", \"TMDL_APP_1\", \n",
    "                            \"TMDL_NEEDE\", \"TMDL_NEE_1\", \"HUC_8\", \"HUC_8_NAME\", \"HUC_4\", \"BASIN\", \"TRIBAL_INT\", \"INDIAN_RES\", \n",
    "                            \"CHLORIDE\", \"FISHESBIO\", \"HG_F\", \"HG_W\", \"NUTRIENTS\", \"PCB_F\", \"PFOS_F\", \"SHAPE_Leng\", \"SHAPE_Area\"], axis = 1)\n",
    "\n",
    "water2014 = water2014.drop([\"LOCATION\", \"CAT\", \"AFFECTED_U\", \"NOPLN\", \"APPROVED\", \"NEEDSPLN\", \"IMPAIR_PAR\", \n",
    "                            \"NEW_2014\", \"HUC8\", \"HUC8_NAME\", \"HUC4\", \"BASIN\", \"WDWMO_NAME\", \"WDWMO_TYPE\", \"Chloride\", \n",
    "                            \"HgF\", \"HgW\", \"Nutrients\", \"PCBF\", \"PFOS_W\", \"SHAPE_Leng\", \"Shape_Le_1\", \"Shape_Area\"], axis = 1)\n",
    "\n",
    "# Renaming the columns to match the two other datasets\n",
    "water2014 = water2014.rename(columns = {\"WATER_NAME\" : \"NAME\", \"ALL_COUNTI\" : \"COUNTY\", \"ACRES\" : \"AERA_ACRES\"})\n",
    "\n",
    "\n",
    "# Locate all invalid gometries and drop them from the dataset\n",
    "water2018_drop_invalid = water2018.loc[water2018['geometry'].is_valid, :]\n",
    "\n",
    "water2016_drop_invalid = water2016.loc[water2016['geometry'].is_valid, :]\n",
    "\n",
    "water2014_drop_invalid = water2014.loc[water2014['geometry'].is_valid, :]\n",
    "\n",
    "\n",
    "# Clipping the three impaired water files to the 7 county metro\n",
    "water2018_clip = gpd.clip(water2018_drop_invalid, metro_dissolve)\n",
    "water2016_clip = gpd.clip(water2016_drop_invalid, metro_dissolve)\n",
    "\n",
    "# 2014 needed to be reprojected - then clip was performed\n",
    "water2014_proj = water2014_drop_invalid.to_crs('EPSG:26915')\n",
    "water2014_clip = gpd.clip(water2014_proj, metro_dissolve)\n",
    "\n",
    "\n",
    "# Locate all invalid gometries and drop them from the dataset\n",
    "hydro_drop_invalid = hydrography.loc[hydrography['geometry'].is_valid, :]\n",
    "\n",
    "# Clipping hydro to the 7 county metro\n",
    "hydro_clip = gpd.clip(hydro_drop_invalid, metro_dissolve)\n",
    "\n",
    "# Narrowing down the number of features in the hydro layer to only lakes and ponds\n",
    "hydro_lake = hydro_clip.loc[hydro_clip[\"wb_class\"] == \"Lake or Pond\"]\n",
    "\n",
    "\n",
    "# Load water 2020 data csv, selecting out the columns that we want and addinga geometry column\n",
    "# and pulling out only the lake features.\n",
    "water2020 = gpd.read_file(\"wq-iw1-65.csv\")\n",
    "water2020 = water2020[[\"Water body name\", \"AUID\", \"County\", \"Water body type\", \"geometry\"]]\n",
    "water2020_lake = water2020.loc[(water2020[\"Water body type\"] == \"Lake\")]\n",
    "\n",
    "# Dropping the \"water body type\" field since it is no longer needed\n",
    "water2020_lake = water2020_lake[[\"AUID\", \"Water body name\", \"County\", \"geometry\"]]\n",
    "\n",
    "# Renaming the columns to match the two other datasets\n",
    "water2020_lake = water2020_lake.rename(columns = {\"Water body name\" : \"NAME\", \"County\" : \"COUNTY\"})"
   ]
  },
  {
   "cell_type": "code",
   "execution_count": 14,
   "metadata": {},
   "outputs": [
    {
     "data": {
      "text/html": [
       "<div>\n",
       "<style scoped>\n",
       "    .dataframe tbody tr th:only-of-type {\n",
       "        vertical-align: middle;\n",
       "    }\n",
       "\n",
       "    .dataframe tbody tr th {\n",
       "        vertical-align: top;\n",
       "    }\n",
       "\n",
       "    .dataframe thead th {\n",
       "        text-align: right;\n",
       "    }\n",
       "</style>\n",
       "<table border=\"1\" class=\"dataframe\">\n",
       "  <thead>\n",
       "    <tr style=\"text-align: right;\">\n",
       "      <th></th>\n",
       "      <th>AUID</th>\n",
       "      <th>NAME</th>\n",
       "      <th>COUNTY</th>\n",
       "      <th>geometry</th>\n",
       "    </tr>\n",
       "  </thead>\n",
       "  <tbody>\n",
       "    <tr>\n",
       "      <th>0</th>\n",
       "      <td>24-0014-00</td>\n",
       "      <td>Albert Lea</td>\n",
       "      <td>Freeborn</td>\n",
       "      <td>None</td>\n",
       "    </tr>\n",
       "    <tr>\n",
       "      <th>6</th>\n",
       "      <td>24-0028-00</td>\n",
       "      <td>Bear</td>\n",
       "      <td>Freeborn</td>\n",
       "      <td>None</td>\n",
       "    </tr>\n",
       "    <tr>\n",
       "      <th>47</th>\n",
       "      <td>50-0002-00</td>\n",
       "      <td>East Side</td>\n",
       "      <td>Mower</td>\n",
       "      <td>None</td>\n",
       "    </tr>\n",
       "    <tr>\n",
       "      <th>48</th>\n",
       "      <td>24-0018-01</td>\n",
       "      <td>Fountain (East Bay)</td>\n",
       "      <td>Freeborn</td>\n",
       "      <td>None</td>\n",
       "    </tr>\n",
       "    <tr>\n",
       "      <th>49</th>\n",
       "      <td>24-0018-01</td>\n",
       "      <td>Fountain (East Bay)</td>\n",
       "      <td>Freeborn</td>\n",
       "      <td>None</td>\n",
       "    </tr>\n",
       "  </tbody>\n",
       "</table>\n",
       "</div>"
      ],
      "text/plain": [
       "          AUID                 NAME    COUNTY geometry\n",
       "0   24-0014-00           Albert Lea  Freeborn     None\n",
       "6   24-0028-00                 Bear  Freeborn     None\n",
       "47  50-0002-00            East Side     Mower     None\n",
       "48  24-0018-01  Fountain (East Bay)  Freeborn     None\n",
       "49  24-0018-01  Fountain (East Bay)  Freeborn     None"
      ]
     },
     "execution_count": 14,
     "metadata": {},
     "output_type": "execute_result"
    }
   ],
   "source": [
    "water2020_lake.head()"
   ]
  },
  {
   "cell_type": "code",
   "execution_count": 15,
   "metadata": {},
   "outputs": [
    {
     "data": {
      "text/html": [
       "<div>\n",
       "<style scoped>\n",
       "    .dataframe tbody tr th:only-of-type {\n",
       "        vertical-align: middle;\n",
       "    }\n",
       "\n",
       "    .dataframe tbody tr th {\n",
       "        vertical-align: top;\n",
       "    }\n",
       "\n",
       "    .dataframe thead th {\n",
       "        text-align: right;\n",
       "    }\n",
       "</style>\n",
       "<table border=\"1\" class=\"dataframe\">\n",
       "  <thead>\n",
       "    <tr style=\"text-align: right;\">\n",
       "      <th></th>\n",
       "      <th>fw_id</th>\n",
       "      <th>dowlknum</th>\n",
       "      <th>pw_basin_n</th>\n",
       "      <th>pw_parent_</th>\n",
       "      <th>pw_sub_nam</th>\n",
       "      <th>sub_flag</th>\n",
       "      <th>wb_class</th>\n",
       "      <th>lake_class</th>\n",
       "      <th>acres</th>\n",
       "      <th>shore_mi</th>\n",
       "      <th>...</th>\n",
       "      <th>ow_use</th>\n",
       "      <th>pwi_class</th>\n",
       "      <th>map_displa</th>\n",
       "      <th>map_label</th>\n",
       "      <th>shape_Leng</th>\n",
       "      <th>shape_Area</th>\n",
       "      <th>INSIDE_X</th>\n",
       "      <th>INSIDE_Y</th>\n",
       "      <th>in_lakefin</th>\n",
       "      <th>geometry</th>\n",
       "    </tr>\n",
       "  </thead>\n",
       "  <tbody>\n",
       "    <tr>\n",
       "      <th>11010</th>\n",
       "      <td>0</td>\n",
       "      <td>None</td>\n",
       "      <td>None</td>\n",
       "      <td>None</td>\n",
       "      <td>None</td>\n",
       "      <td>None</td>\n",
       "      <td>Lake or Pond</td>\n",
       "      <td>0</td>\n",
       "      <td>0.222883</td>\n",
       "      <td>0.073315</td>\n",
       "      <td>...</td>\n",
       "      <td>Y</td>\n",
       "      <td>None</td>\n",
       "      <td>N</td>\n",
       "      <td>None</td>\n",
       "      <td>117.988513</td>\n",
       "      <td>901.974108</td>\n",
       "      <td>496237.797808</td>\n",
       "      <td>4.939675e+06</td>\n",
       "      <td>N</td>\n",
       "      <td>POLYGON ((496245.416 4939651.635, 496236.136 4...</td>\n",
       "    </tr>\n",
       "    <tr>\n",
       "      <th>11011</th>\n",
       "      <td>17306</td>\n",
       "      <td>19046600</td>\n",
       "      <td>Red Fish Pond</td>\n",
       "      <td>Red Fish Pond</td>\n",
       "      <td>None</td>\n",
       "      <td>N</td>\n",
       "      <td>Lake or Pond</td>\n",
       "      <td>0</td>\n",
       "      <td>0.301819</td>\n",
       "      <td>0.101540</td>\n",
       "      <td>...</td>\n",
       "      <td>Y</td>\n",
       "      <td>None</td>\n",
       "      <td>Y</td>\n",
       "      <td>Red Fish Pond</td>\n",
       "      <td>163.412466</td>\n",
       "      <td>1221.417383</td>\n",
       "      <td>483662.966548</td>\n",
       "      <td>4.931448e+06</td>\n",
       "      <td>N</td>\n",
       "      <td>POLYGON ((483663.086 4931478.403, 483667.590 4...</td>\n",
       "    </tr>\n",
       "    <tr>\n",
       "      <th>11029</th>\n",
       "      <td>0</td>\n",
       "      <td>None</td>\n",
       "      <td>None</td>\n",
       "      <td>None</td>\n",
       "      <td>None</td>\n",
       "      <td>None</td>\n",
       "      <td>Lake or Pond</td>\n",
       "      <td>0</td>\n",
       "      <td>0.383863</td>\n",
       "      <td>0.092450</td>\n",
       "      <td>...</td>\n",
       "      <td>Y</td>\n",
       "      <td>None</td>\n",
       "      <td>N</td>\n",
       "      <td>None</td>\n",
       "      <td>148.784838</td>\n",
       "      <td>1553.437310</td>\n",
       "      <td>478402.806858</td>\n",
       "      <td>4.939105e+06</td>\n",
       "      <td>N</td>\n",
       "      <td>POLYGON ((478374.781 4939101.478, 478375.441 4...</td>\n",
       "    </tr>\n",
       "    <tr>\n",
       "      <th>11036</th>\n",
       "      <td>0</td>\n",
       "      <td>None</td>\n",
       "      <td>None</td>\n",
       "      <td>None</td>\n",
       "      <td>None</td>\n",
       "      <td>None</td>\n",
       "      <td>Lake or Pond</td>\n",
       "      <td>0</td>\n",
       "      <td>0.203902</td>\n",
       "      <td>0.064874</td>\n",
       "      <td>...</td>\n",
       "      <td>Y</td>\n",
       "      <td>None</td>\n",
       "      <td>N</td>\n",
       "      <td>None</td>\n",
       "      <td>104.404919</td>\n",
       "      <td>825.160361</td>\n",
       "      <td>502495.696167</td>\n",
       "      <td>4.940100e+06</td>\n",
       "      <td>N</td>\n",
       "      <td>POLYGON ((502501.062 4940083.279, 502489.412 4...</td>\n",
       "    </tr>\n",
       "    <tr>\n",
       "      <th>11048</th>\n",
       "      <td>0</td>\n",
       "      <td>None</td>\n",
       "      <td>None</td>\n",
       "      <td>None</td>\n",
       "      <td>None</td>\n",
       "      <td>None</td>\n",
       "      <td>Lake or Pond</td>\n",
       "      <td>0</td>\n",
       "      <td>0.283464</td>\n",
       "      <td>0.089336</td>\n",
       "      <td>...</td>\n",
       "      <td>Y</td>\n",
       "      <td>None</td>\n",
       "      <td>N</td>\n",
       "      <td>None</td>\n",
       "      <td>143.772914</td>\n",
       "      <td>1147.136304</td>\n",
       "      <td>483244.752847</td>\n",
       "      <td>4.935480e+06</td>\n",
       "      <td>N</td>\n",
       "      <td>POLYGON ((483236.733 4935496.847, 483245.873 4...</td>\n",
       "    </tr>\n",
       "  </tbody>\n",
       "</table>\n",
       "<p>5 rows × 44 columns</p>\n",
       "</div>"
      ],
      "text/plain": [
       "       fw_id  dowlknum     pw_basin_n     pw_parent_ pw_sub_nam sub_flag  \\\n",
       "11010      0      None           None           None       None     None   \n",
       "11011  17306  19046600  Red Fish Pond  Red Fish Pond       None        N   \n",
       "11029      0      None           None           None       None     None   \n",
       "11036      0      None           None           None       None     None   \n",
       "11048      0      None           None           None       None     None   \n",
       "\n",
       "           wb_class  lake_class     acres  shore_mi  ...  ow_use  pwi_class  \\\n",
       "11010  Lake or Pond           0  0.222883  0.073315  ...       Y       None   \n",
       "11011  Lake or Pond           0  0.301819  0.101540  ...       Y       None   \n",
       "11029  Lake or Pond           0  0.383863  0.092450  ...       Y       None   \n",
       "11036  Lake or Pond           0  0.203902  0.064874  ...       Y       None   \n",
       "11048  Lake or Pond           0  0.283464  0.089336  ...       Y       None   \n",
       "\n",
       "      map_displa      map_label  shape_Leng   shape_Area       INSIDE_X  \\\n",
       "11010          N           None  117.988513   901.974108  496237.797808   \n",
       "11011          Y  Red Fish Pond  163.412466  1221.417383  483662.966548   \n",
       "11029          N           None  148.784838  1553.437310  478402.806858   \n",
       "11036          N           None  104.404919   825.160361  502495.696167   \n",
       "11048          N           None  143.772914  1147.136304  483244.752847   \n",
       "\n",
       "           INSIDE_Y in_lakefin  \\\n",
       "11010  4.939675e+06          N   \n",
       "11011  4.931448e+06          N   \n",
       "11029  4.939105e+06          N   \n",
       "11036  4.940100e+06          N   \n",
       "11048  4.935480e+06          N   \n",
       "\n",
       "                                                geometry  \n",
       "11010  POLYGON ((496245.416 4939651.635, 496236.136 4...  \n",
       "11011  POLYGON ((483663.086 4931478.403, 483667.590 4...  \n",
       "11029  POLYGON ((478374.781 4939101.478, 478375.441 4...  \n",
       "11036  POLYGON ((502501.062 4940083.279, 502489.412 4...  \n",
       "11048  POLYGON ((483236.733 4935496.847, 483245.873 4...  \n",
       "\n",
       "[5 rows x 44 columns]"
      ]
     },
     "execution_count": 15,
     "metadata": {},
     "output_type": "execute_result"
    }
   ],
   "source": [
    "hydro_lake.head()"
   ]
  },
  {
   "cell_type": "code",
   "execution_count": 16,
   "metadata": {},
   "outputs": [
    {
     "data": {
      "text/html": [
       "<div>\n",
       "<style scoped>\n",
       "    .dataframe tbody tr th:only-of-type {\n",
       "        vertical-align: middle;\n",
       "    }\n",
       "\n",
       "    .dataframe tbody tr th {\n",
       "        vertical-align: top;\n",
       "    }\n",
       "\n",
       "    .dataframe thead th {\n",
       "        text-align: right;\n",
       "    }\n",
       "</style>\n",
       "<table border=\"1\" class=\"dataframe\">\n",
       "  <thead>\n",
       "    <tr style=\"text-align: right;\">\n",
       "      <th></th>\n",
       "      <th>NAME</th>\n",
       "      <th>AERA_ACRES</th>\n",
       "      <th>AUID</th>\n",
       "      <th>COUNTY</th>\n",
       "      <th>geometry</th>\n",
       "    </tr>\n",
       "  </thead>\n",
       "  <tbody>\n",
       "    <tr>\n",
       "      <th>35</th>\n",
       "      <td>Otter</td>\n",
       "      <td>295.160279</td>\n",
       "      <td>02-0003-00</td>\n",
       "      <td>Anoka; Ramsey</td>\n",
       "      <td>MULTIPOLYGON (((497666.112 4994761.469, 497654...</td>\n",
       "    </tr>\n",
       "    <tr>\n",
       "      <th>36</th>\n",
       "      <td>Peltier</td>\n",
       "      <td>564.573433</td>\n",
       "      <td>02-0004-00</td>\n",
       "      <td>Anoka</td>\n",
       "      <td>POLYGON ((495700.177 5003726.032, 495689.718 5...</td>\n",
       "    </tr>\n",
       "    <tr>\n",
       "      <th>37</th>\n",
       "      <td>George Watch</td>\n",
       "      <td>470.031037</td>\n",
       "      <td>02-0005-00</td>\n",
       "      <td>Anoka</td>\n",
       "      <td>MULTIPOLYGON (((493101.839 5000098.655, 493093...</td>\n",
       "    </tr>\n",
       "    <tr>\n",
       "      <th>38</th>\n",
       "      <td>Centerville</td>\n",
       "      <td>460.197759</td>\n",
       "      <td>02-0006-00</td>\n",
       "      <td>Anoka</td>\n",
       "      <td>MULTIPOLYGON (((494888.448 5000312.082, 494878...</td>\n",
       "    </tr>\n",
       "    <tr>\n",
       "      <th>39</th>\n",
       "      <td>Marshan</td>\n",
       "      <td>191.937616</td>\n",
       "      <td>02-0007-00</td>\n",
       "      <td>Anoka</td>\n",
       "      <td>POLYGON ((491690.482 5001516.469, 491680.050 5...</td>\n",
       "    </tr>\n",
       "  </tbody>\n",
       "</table>\n",
       "</div>"
      ],
      "text/plain": [
       "            NAME  AERA_ACRES        AUID         COUNTY  \\\n",
       "35         Otter  295.160279  02-0003-00  Anoka; Ramsey   \n",
       "36       Peltier  564.573433  02-0004-00          Anoka   \n",
       "37  George Watch  470.031037  02-0005-00          Anoka   \n",
       "38   Centerville  460.197759  02-0006-00          Anoka   \n",
       "39       Marshan  191.937616  02-0007-00          Anoka   \n",
       "\n",
       "                                             geometry  \n",
       "35  MULTIPOLYGON (((497666.112 4994761.469, 497654...  \n",
       "36  POLYGON ((495700.177 5003726.032, 495689.718 5...  \n",
       "37  MULTIPOLYGON (((493101.839 5000098.655, 493093...  \n",
       "38  MULTIPOLYGON (((494888.448 5000312.082, 494878...  \n",
       "39  POLYGON ((491690.482 5001516.469, 491680.050 5...  "
      ]
     },
     "execution_count": 16,
     "metadata": {},
     "output_type": "execute_result"
    }
   ],
   "source": [
    "water2014_clip.head()"
   ]
  },
  {
   "cell_type": "code",
   "execution_count": 17,
   "metadata": {},
   "outputs": [
    {
     "data": {
      "text/html": [
       "<div>\n",
       "<style scoped>\n",
       "    .dataframe tbody tr th:only-of-type {\n",
       "        vertical-align: middle;\n",
       "    }\n",
       "\n",
       "    .dataframe tbody tr th {\n",
       "        vertical-align: top;\n",
       "    }\n",
       "\n",
       "    .dataframe thead th {\n",
       "        text-align: right;\n",
       "    }\n",
       "</style>\n",
       "<table border=\"1\" class=\"dataframe\">\n",
       "  <thead>\n",
       "    <tr style=\"text-align: right;\">\n",
       "      <th></th>\n",
       "      <th>AUID</th>\n",
       "      <th>NAME</th>\n",
       "      <th>AREA_ACRES</th>\n",
       "      <th>COUNTY</th>\n",
       "      <th>geometry</th>\n",
       "    </tr>\n",
       "  </thead>\n",
       "  <tbody>\n",
       "    <tr>\n",
       "      <th>38</th>\n",
       "      <td>02-0003-00</td>\n",
       "      <td>Otter</td>\n",
       "      <td>279.813</td>\n",
       "      <td>Anoka</td>\n",
       "      <td>MULTIPOLYGON (((496603.986 4997314.787, 496616...</td>\n",
       "    </tr>\n",
       "    <tr>\n",
       "      <th>39</th>\n",
       "      <td>02-0004-00</td>\n",
       "      <td>Peltier</td>\n",
       "      <td>564.573</td>\n",
       "      <td>Anoka</td>\n",
       "      <td>POLYGON ((495700.177 5003726.032, 495689.718 5...</td>\n",
       "    </tr>\n",
       "    <tr>\n",
       "      <th>40</th>\n",
       "      <td>02-0005-00</td>\n",
       "      <td>George Watch</td>\n",
       "      <td>462.078</td>\n",
       "      <td>Anoka</td>\n",
       "      <td>POLYGON ((492926.894 5001250.746, 492931.117 5...</td>\n",
       "    </tr>\n",
       "    <tr>\n",
       "      <th>41</th>\n",
       "      <td>02-0006-00</td>\n",
       "      <td>Centerville</td>\n",
       "      <td>459.840</td>\n",
       "      <td>Anoka</td>\n",
       "      <td>POLYGON ((493777.874 5000502.822, 493771.787 5...</td>\n",
       "    </tr>\n",
       "    <tr>\n",
       "      <th>42</th>\n",
       "      <td>02-0007-00</td>\n",
       "      <td>Marshan</td>\n",
       "      <td>191.938</td>\n",
       "      <td>Anoka</td>\n",
       "      <td>POLYGON ((491690.482 5001516.469, 491680.050 5...</td>\n",
       "    </tr>\n",
       "  </tbody>\n",
       "</table>\n",
       "</div>"
      ],
      "text/plain": [
       "          AUID          NAME  AREA_ACRES COUNTY  \\\n",
       "38  02-0003-00         Otter     279.813  Anoka   \n",
       "39  02-0004-00       Peltier     564.573  Anoka   \n",
       "40  02-0005-00  George Watch     462.078  Anoka   \n",
       "41  02-0006-00   Centerville     459.840  Anoka   \n",
       "42  02-0007-00       Marshan     191.938  Anoka   \n",
       "\n",
       "                                             geometry  \n",
       "38  MULTIPOLYGON (((496603.986 4997314.787, 496616...  \n",
       "39  POLYGON ((495700.177 5003726.032, 495689.718 5...  \n",
       "40  POLYGON ((492926.894 5001250.746, 492931.117 5...  \n",
       "41  POLYGON ((493777.874 5000502.822, 493771.787 5...  \n",
       "42  POLYGON ((491690.482 5001516.469, 491680.050 5...  "
      ]
     },
     "execution_count": 17,
     "metadata": {},
     "output_type": "execute_result"
    }
   ],
   "source": [
    "water2016_clip.head()"
   ]
  },
  {
   "cell_type": "code",
   "execution_count": 18,
   "metadata": {},
   "outputs": [
    {
     "data": {
      "text/html": [
       "<div>\n",
       "<style scoped>\n",
       "    .dataframe tbody tr th:only-of-type {\n",
       "        vertical-align: middle;\n",
       "    }\n",
       "\n",
       "    .dataframe tbody tr th {\n",
       "        vertical-align: top;\n",
       "    }\n",
       "\n",
       "    .dataframe thead th {\n",
       "        text-align: right;\n",
       "    }\n",
       "</style>\n",
       "<table border=\"1\" class=\"dataframe\">\n",
       "  <thead>\n",
       "    <tr style=\"text-align: right;\">\n",
       "      <th></th>\n",
       "      <th>AUID</th>\n",
       "      <th>NAME</th>\n",
       "      <th>AREA_ACRES</th>\n",
       "      <th>COUNTY</th>\n",
       "      <th>geometry</th>\n",
       "    </tr>\n",
       "  </thead>\n",
       "  <tbody>\n",
       "    <tr>\n",
       "      <th>40</th>\n",
       "      <td>02-0003-00</td>\n",
       "      <td>Otter</td>\n",
       "      <td>279.813</td>\n",
       "      <td>Anoka</td>\n",
       "      <td>MULTIPOLYGON (((496603.986 4997314.787, 496616...</td>\n",
       "    </tr>\n",
       "    <tr>\n",
       "      <th>41</th>\n",
       "      <td>02-0004-00</td>\n",
       "      <td>Peltier</td>\n",
       "      <td>564.573</td>\n",
       "      <td>Anoka</td>\n",
       "      <td>POLYGON ((496349.373 5005352.962, 496340.869 5...</td>\n",
       "    </tr>\n",
       "    <tr>\n",
       "      <th>42</th>\n",
       "      <td>02-0005-00</td>\n",
       "      <td>George Watch</td>\n",
       "      <td>462.078</td>\n",
       "      <td>Anoka</td>\n",
       "      <td>POLYGON ((493356.038 5002772.700, 493364.622 5...</td>\n",
       "    </tr>\n",
       "    <tr>\n",
       "      <th>43</th>\n",
       "      <td>02-0006-00</td>\n",
       "      <td>Centerville</td>\n",
       "      <td>459.840</td>\n",
       "      <td>Anoka</td>\n",
       "      <td>POLYGON ((494607.558 5001795.936, 494621.581 5...</td>\n",
       "    </tr>\n",
       "    <tr>\n",
       "      <th>44</th>\n",
       "      <td>02-0007-00</td>\n",
       "      <td>Marshan</td>\n",
       "      <td>191.938</td>\n",
       "      <td>Anoka</td>\n",
       "      <td>POLYGON ((491705.038 5002279.755, 491721.403 5...</td>\n",
       "    </tr>\n",
       "  </tbody>\n",
       "</table>\n",
       "</div>"
      ],
      "text/plain": [
       "          AUID          NAME  AREA_ACRES COUNTY  \\\n",
       "40  02-0003-00         Otter     279.813  Anoka   \n",
       "41  02-0004-00       Peltier     564.573  Anoka   \n",
       "42  02-0005-00  George Watch     462.078  Anoka   \n",
       "43  02-0006-00   Centerville     459.840  Anoka   \n",
       "44  02-0007-00       Marshan     191.938  Anoka   \n",
       "\n",
       "                                             geometry  \n",
       "40  MULTIPOLYGON (((496603.986 4997314.787, 496616...  \n",
       "41  POLYGON ((496349.373 5005352.962, 496340.869 5...  \n",
       "42  POLYGON ((493356.038 5002772.700, 493364.622 5...  \n",
       "43  POLYGON ((494607.558 5001795.936, 494621.581 5...  \n",
       "44  POLYGON ((491705.038 5002279.755, 491721.403 5...  "
      ]
     },
     "execution_count": 18,
     "metadata": {},
     "output_type": "execute_result"
    }
   ],
   "source": [
    "water2018_clip.head()"
   ]
  },
  {
   "cell_type": "code",
   "execution_count": null,
   "metadata": {},
   "outputs": [],
   "source": []
  }
 ],
 "metadata": {
  "kernelspec": {
   "display_name": "Python 3",
   "language": "python",
   "name": "python3"
  },
  "language_info": {
   "codemirror_mode": {
    "name": "ipython",
    "version": 3
   },
   "file_extension": ".py",
   "mimetype": "text/x-python",
   "name": "python",
   "nbconvert_exporter": "python",
   "pygments_lexer": "ipython3",
   "version": "3.8.5"
  }
 },
 "nbformat": 4,
 "nbformat_minor": 4
}
